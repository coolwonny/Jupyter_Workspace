{
 "cells": [
  {
   "cell_type": "markdown",
   "metadata": {},
   "source": [
    "# House of Requests"
   ]
  },
  {
   "cell_type": "markdown",
   "metadata": {},
   "source": [
    "Use the `Deck of Cards` API to play a game of BlackJack with a partner. Parameterize the `Deck of Cards` API `request urls` in order to create the deck of cards, as well as draw cards for the game."
   ]
  },
  {
   "cell_type": "code",
   "execution_count": 2,
   "metadata": {},
   "outputs": [],
   "source": [
    "import requests\n",
    "import json"
   ]
  },
  {
   "cell_type": "markdown",
   "metadata": {},
   "source": [
    "## Prep for the Game"
   ]
  },
  {
   "cell_type": "code",
   "execution_count": 3,
   "metadata": {},
   "outputs": [],
   "source": [
    "# Declare request urls\n",
    "create_deck_url = \"https://deckofcardsapi.com/api/deck/new/shuffle/?deck_count=6\"\n",
    "draw_cards_url = \"https://deckofcardsapi.com/api/deck/{deck_id}/draw/?count=2\"\n",
    "shuffle_deck_url = \"https://deckofcardsapi.com/api/deck/{deck_id}/shuffle/\"\n",
    "\n",
    "# Execute create deck url\n",
    "\n",
    "response_data = requests.get(create_deck_url).json()\n"
   ]
  },
  {
   "cell_type": "markdown",
   "metadata": {},
   "source": [
    "### Parse JSON and extract `deck_id`"
   ]
  },
  {
   "cell_type": "code",
   "execution_count": 4,
   "metadata": {},
   "outputs": [
    {
     "name": "stdout",
     "output_type": "stream",
     "text": [
      "u4jvrgvk433l\n"
     ]
    }
   ],
   "source": [
    "# Select deck_id\n",
    "deck_id = requests.get(create_deck_url).json()['deck_id']\n",
    "print(deck_id)"
   ]
  },
  {
   "cell_type": "markdown",
   "metadata": {},
   "source": [
    "### Update `draw_cards_url` and `shuffle_deck_url` with `deck_id`"
   ]
  },
  {
   "cell_type": "code",
   "execution_count": 24,
   "metadata": {},
   "outputs": [
    {
     "name": "stdout",
     "output_type": "stream",
     "text": [
      "{\n",
      "    \"success\": true,\n",
      "    \"deck_id\": \"u4jvrgvk433l\",\n",
      "    \"cards\": [\n",
      "        {\n",
      "            \"code\": \"JS\",\n",
      "            \"image\": \"https://deckofcardsapi.com/static/img/JS.png\",\n",
      "            \"images\": {\n",
      "                \"svg\": \"https://deckofcardsapi.com/static/img/JS.svg\",\n",
      "                \"png\": \"https://deckofcardsapi.com/static/img/JS.png\"\n",
      "            },\n",
      "            \"value\": \"JACK\",\n",
      "            \"suit\": \"SPADES\"\n",
      "        }\n",
      "    ],\n",
      "    \"remaining\": 311\n",
      "}\n"
     ]
    }
   ],
   "source": [
    "# Interpolate deck_id into draw_cards_url and shuffle_deck_url\n",
    "draw_cards_url = f\"https://deckofcardsapi.com/api/deck/{deck_id}/draw/?count=2\"\n",
    "draw_cards_url_1 = f\"https://deckofcardsapi.com/api/deck/{deck_id}/draw/?count=1\"\n",
    "shuffle_deck_url = f\"https://deckofcardsapi.com/api/deck/{deck_id}/shuffle/\"\n",
    "draw_2cards = requests.get(draw_cards_url).json()\n",
    "draw_1card = requests.get(draw_cards_url_1).json()\n",
    "shuffle = requests.get(shuffle_deck_url).json()\n",
    "\n",
    "print(json.dumps(draw, indent=4))"
   ]
  },
  {
   "cell_type": "markdown",
   "metadata": {},
   "source": [
    "## Player 1 Turn"
   ]
  },
  {
   "cell_type": "markdown",
   "metadata": {},
   "source": [
    "### Draw two cards"
   ]
  },
  {
   "cell_type": "code",
   "execution_count": 19,
   "metadata": {},
   "outputs": [
    {
     "data": {
      "text/plain": [
       "[{'code': '4H',\n",
       "  'image': 'https://deckofcardsapi.com/static/img/4H.png',\n",
       "  'images': {'svg': 'https://deckofcardsapi.com/static/img/4H.svg',\n",
       "   'png': 'https://deckofcardsapi.com/static/img/4H.png'},\n",
       "  'value': '4',\n",
       "  'suit': 'HEARTS'},\n",
       " {'code': '6D',\n",
       "  'image': 'https://deckofcardsapi.com/static/img/6D.png',\n",
       "  'images': {'svg': 'https://deckofcardsapi.com/static/img/6D.svg',\n",
       "   'png': 'https://deckofcardsapi.com/static/img/6D.png'},\n",
       "  'value': '6',\n",
       "  'suit': 'DIAMONDS'}]"
      ]
     },
     "execution_count": 19,
     "metadata": {},
     "output_type": "execute_result"
    }
   ],
   "source": [
    "# Draw two cards\n",
    "draw_2cards['cards']"
   ]
  },
  {
   "cell_type": "markdown",
   "metadata": {},
   "source": [
    "### Parse and extract `value` and `suit` elements from JSON output, for each card"
   ]
  },
  {
   "cell_type": "code",
   "execution_count": 21,
   "metadata": {},
   "outputs": [
    {
     "name": "stdout",
     "output_type": "stream",
     "text": [
      "4 of HEARTS\n",
      "6 of DIAMONDS\n"
     ]
    }
   ],
   "source": [
    "# Select returned card's value and suit (i.e. 3 of clubs)\n",
    "player_1_card_1 = draw_2cards['cards'][0]['value'] + \" of \" + draw_2cards['cards'][0]['suit']\n",
    "player_1_card_2 = draw_2cards['cards'][1]['value'] + \" of \" + draw_2cards['cards'][1]['suit']\n",
    "# Print player cards\n",
    "print(player_1_card_1)\n",
    "print(player_1_card_2)"
   ]
  },
  {
   "cell_type": "markdown",
   "metadata": {},
   "source": [
    "### Decide whether to draw another card or skip to next player turn"
   ]
  },
  {
   "cell_type": "code",
   "execution_count": 29,
   "metadata": {},
   "outputs": [
    {
     "name": "stdout",
     "output_type": "stream",
     "text": [
      "QUEEN of CLUBS\n"
     ]
    }
   ],
   "source": [
    "# Draw a third card\n",
    "draw_1card['cards']\n",
    "# Select returned card's value and suit (i.e. 3 of clubs)\n",
    "player_1_card_3 = draw_1card['cards'][0]['value'] + \" of \" + draw_1card['cards'][0]['suit']\n",
    "\n",
    "# Print player card\n",
    "print(player_1_card_3)"
   ]
  },
  {
   "cell_type": "markdown",
   "metadata": {},
   "source": [
    "### Manually calculate player 1 points and enter below"
   ]
  },
  {
   "cell_type": "markdown",
   "metadata": {},
   "source": [
    "Player 1 points = "
   ]
  },
  {
   "cell_type": "raw",
   "metadata": {},
   "source": [
    "20"
   ]
  },
  {
   "cell_type": "markdown",
   "metadata": {},
   "source": [
    "## Player 2 / Dealer Turn"
   ]
  },
  {
   "cell_type": "code",
   "execution_count": 31,
   "metadata": {},
   "outputs": [
    {
     "name": "stdout",
     "output_type": "stream",
     "text": [
      "4 of CLUBS\n",
      "QUEEN of DIAMONDS\n",
      "QUEEN of CLUBS\n"
     ]
    }
   ],
   "source": [
    "# Draw two cards for player 1\n",
    "draw_2cards['cards']\n",
    "\n",
    "# Select card value and suit \n",
    "player_2_card_1 = draw_2cards['cards'][0]['value'] + \" of \" + draw_2cards['cards'][0]['suit']\n",
    "player_2_card_2 = draw_2cards['cards'][1]['value'] + \" of \" + draw_2cards['cards'][1]['suit']\n",
    "\n",
    "# Print player cards\n",
    "print(player_2_card_1)\n",
    "print(player_2_card_2)\n",
    "\n",
    "# Draw third card for player 2\n",
    "draw_1card['cards']\n",
    "player_2_card_3 = draw_1card['cards'][0]['value'] + \" of \" + draw_1card['cards'][0]['suit']\n",
    "# Print player card\n",
    "print(player_2_card_3)"
   ]
  },
  {
   "cell_type": "markdown",
   "metadata": {},
   "source": [
    "### Manually calculate player 2 points and enter below"
   ]
  },
  {
   "cell_type": "markdown",
   "metadata": {},
   "source": [
    "Player 2 points ="
   ]
  },
  {
   "cell_type": "raw",
   "metadata": {},
   "source": [
    "24"
   ]
  }
 ],
 "metadata": {
  "kernelspec": {
   "display_name": "Python 3",
   "language": "python",
   "name": "python3"
  },
  "language_info": {
   "codemirror_mode": {
    "name": "ipython",
    "version": 3
   },
   "file_extension": ".py",
   "mimetype": "text/x-python",
   "name": "python",
   "nbconvert_exporter": "python",
   "pygments_lexer": "ipython3",
   "version": "3.7.7"
  }
 },
 "nbformat": 4,
 "nbformat_minor": 4
}
