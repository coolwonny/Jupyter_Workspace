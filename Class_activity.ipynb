{
 "cells": [
  {
   "cell_type": "code",
   "execution_count": 21,
   "metadata": {},
   "outputs": [
    {
     "name": "stdout",
     "output_type": "stream",
     "text": [
      "Apple's original stock price was $198.87\n",
      "Apple's current stock price was $254.32\n",
      "Apple's stock price increase was $55.45\n",
      "Apple's stock price percent increase was 27.88%\n"
     ]
    }
   ],
   "source": [
    "# 05 stu_variable\n",
    "# For the last week, you've been watching your coworker Harold use a calculator to manually track stock price fluctuations. Harold spends three hours every day tracking his stocks this way, writing down the stock's original price (from the day before), current price, and the percentage of increase/decrease. You know that if this calculation were automated, Harold could streamline his daily process and spend more time making investment decisions. Your newly acquired Python skills can help you achieve this for him.\n",
    "# For this activity, create a Python program to automate Harold's process by programmatically implementing the percent increase calculation.\n",
    "# Start small by identifying the percent increase in price for Apple stock. Yesterday at 9:00 a.m., Apple's stock price was $198.87. At close of market today, the stock price was $254.32. Calculate the percent increase using the formulas below.\n",
    "# Increase = Current Price - Original Price\n",
    "# Percent Increase = Increase / Original x 10\n",
    "\"\"\"\n",
    "1. define two initial variables: original_price, current_price\n",
    "2. define subsequent variables including initial variables: Increase = Current Price - Original Price  and Percent Increase = Increase / Original x 10\n",
    "3. print the each results showing all variables with appropriate string explanations using f-string function. \n",
    "\"\"\"\n",
    "original_price = 198.87\n",
    "current_price = 254.32\n",
    "increase = current_price - original_price\n",
    "percent_increase = increase / original_price * 100\n",
    "\n",
    "width = 5\n",
    "precision = 4\n",
    "\n",
    "print(f\"Apple's original stock price was ${original_price}\")\n",
    "print(f\"Apple's current stock price was ${current_price}\")\n",
    "print(f\"Apple's stock price increase was ${increase:{width}.{precision}}\")\n",
    "print(f\"Apple's stock price percent increase was {percent_increase:{width}.{precision}}%\")\n"
   ]
  },
  {
   "cell_type": "code",
   "execution_count": 25,
   "metadata": {},
   "outputs": [
    {
     "name": "stdout",
     "output_type": "stream",
     "text": [
      "Oooo needs some work\n",
      "Question 2 works!\n",
      "Your are of drinking age!\n",
      "GOT QUESTION 4!\n",
      "Stick to lazy river\n"
     ]
    }
   ],
   "source": [
    "# 07 stu_conditional\n",
    "# Like you, your coworker Sam is studying conditional statements. You two have decided to quiz each other on your ability to understand logical decision making. \n",
    "# Sam has created a Python script with some conditional statements for your review. Follow the instructions below and complete Sam's quiz.\n",
    "\n",
    "# 1.\n",
    "x = 5\n",
    "y = 10\n",
    "if 2 * x > 10:\n",
    "    print(\"Question 1 works!\")\n",
    "else:\n",
    "    print(\"Oooo needs some work\")\n",
    "\n",
    "# 2.\n",
    "x = 5\n",
    "y = 10\n",
    "if len(\"Dog\") < x:\n",
    "    print(\"Question 2 works!\")\n",
    "else:\n",
    "    print(\"Still missing out\")\n",
    "\n",
    "# 3.\n",
    "age = 21 \n",
    "if age > 20:\n",
    "    print(\"Your are of drinking age!\")\n",
    "else:\n",
    "    print(\"Arggggh! You think you can hoodwink me, matey?\")\n",
    "\n",
    "# 4.\n",
    "x = 2\n",
    "y = 5\n",
    "if (x ** 3 >= y) and (y ** 2 <26):\n",
    "    print(\"GOT QUESTION 4!\")\n",
    "else:\n",
    "    print(\"Oh good you can count\")\n",
    "\n",
    "# 5.\n",
    "height = 66\n",
    "age = 16\n",
    "adult_permission = False\n",
    "\n",
    "if (height > 70) and (age >= 18):\n",
    "    print(\"Can ride all the roller coasters\")\n",
    "elif (height > 65) and (age >= 18):\n",
    "    print(\"Can ride moderate roller coasters\")\n",
    "elif (height > 60) and (age >= 18):\n",
    "    print(\"Can ride light roller coasters\")\n",
    "elif ((height > 50) and (age >= 18)) or ((adult_permission) and (height > 50)):\n",
    "    print(\"Can ride bumper cars\")\n",
    "else:\n",
    "    print(\"Stick to lazy river\")\n",
    "\n",
    "\n",
    "\n",
    "    \n"
   ]
  },
  {
   "cell_type": "code",
   "execution_count": 1,
   "metadata": {},
   "outputs": [
    {
     "name": "stdout",
     "output_type": "stream",
     "text": [
      "Give me a P!\n",
      "P!\n",
      "Give me a y!\n",
      "y!\n",
      "Give me a t!\n",
      "t!\n",
      "Give me a h!\n",
      "h!\n",
      "Give me a o!\n",
      "o!\n",
      "Give me a n!\n",
      "n!\n"
     ]
    }
   ],
   "source": [
    "# 09 stu_loop_de_loop\n",
    "\n",
    "cheer = \"Python\" \n",
    "for x in cheer:\n",
    "    print(\"Give me a {0}!\".format(x))\n",
    "    print(\"{0}!\".format(x))\n",
    "    \n"
   ]
  },
  {
   "cell_type": "code",
   "execution_count": 1,
   "metadata": {},
   "outputs": [
    {
     "name": "stdin",
     "output_type": "stream",
     "text": [
      "What is the original price?  298.57\n",
      "And what is the current price?  312.54\n",
      "Now how much do you have in your balance?  1954\n"
     ]
    },
    {
     "name": "stdout",
     "output_type": "stream",
     "text": [
      "Percent change is 4.68%\n",
      "Hold on for now\n"
     ]
    }
   ],
   "source": [
    "# 12.stu_challenge_activity\n",
    "\"\"\"\n",
    "1. define variables with input option: original price, current price, balance\n",
    "2. identify increase, percent increase/decrease, balance check\n",
    "3. assume a 20% increase of decrease as indication to buy or sold stocks using conditional statement by defining variables threshold to buy or sell\n",
    "4. use if conditional to check the threshold, balance and print the appropriate recommendation\n",
    "\"\"\"\n",
    "original_price = float(input(\"What is the original price? \"))\n",
    "current_price = float(input(\"And what is the current price? \"))\n",
    "balance = float(input(\"Now how much do you have in your balance? \"))\n",
    "increase = current_price - original_price\n",
    "percent_increase = increase / original_price * 100\n",
    "balance_check = current_price * 5\n",
    "recommendation = [\"Buy the stock\", \"Sell the stock\"]\n",
    "threshold_to_buy = -20\n",
    "threshold_to_sell = 20\n",
    "\n",
    "print(f\"Percent change is {percent_increase:.2f}%\")\n",
    "\n",
    "if percent_increase >= threshold_to_sell:\n",
    "    print(recommendation[1])\n",
    "elif percent_increase <= threshold_to_buy and balance >= balance_check:\n",
    "    print(recommendation[0])\n",
    "elif balance < balance_check:\n",
    "    print(\"Insufficient balance\")\n",
    "else: \n",
    "    print(\"Hold on for now\")\n"
   ]
  },
  {
   "cell_type": "code",
   "execution_count": null,
   "metadata": {},
   "outputs": [],
   "source": []
  }
 ],
 "metadata": {
  "kernelspec": {
   "display_name": "Python 3",
   "language": "python",
   "name": "python3"
  },
  "language_info": {
   "codemirror_mode": {
    "name": "ipython",
    "version": 3
   },
   "file_extension": ".py",
   "mimetype": "text/x-python",
   "name": "python",
   "nbconvert_exporter": "python",
   "pygments_lexer": "ipython3",
   "version": "3.7.7"
  }
 },
 "nbformat": 4,
 "nbformat_minor": 4
}
