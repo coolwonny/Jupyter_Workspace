{
 "cells": [
  {
   "cell_type": "code",
   "execution_count": 10,
   "metadata": {},
   "outputs": [],
   "source": [
    "def main():\n",
    "    print(\"Greetings!\")\n",
    "main()\n",
    "\n",
    "# Define a main function that accepts a string argument\n",
    "# def main(stock_ticker):\n",
    "#     print(stock_ticker + \" is booming right now!\")\n",
    "# main(\"APPL\")\n",
    "\n",
    "# # Define a calculate_market_cap function that returns an integer\n",
    "# def calculate_market_cap(market_price, number_of_shares):\n",
    "#     cap = market_price * number_of_shares\n",
    "\n",
    "#     return cap\n",
    "# calculate_market_cap(100, 1000)\n",
    "\n",
    "# # Define a calculate_market_cap function, and then call it\n",
    "# def calculate_market_cap(market_price, number_of_shares):\n",
    "#     cap = market_price * number_of_shares\n",
    "\n",
    "#     return cap\n",
    "\n",
    "# stock_ticker = \"SBUX\"\n",
    "# market_price = 76.06\n",
    "# number_of_shares = 1243600000\n",
    "\n",
    "# market_cap = calculate_market_cap(market_price, number_of_shares)\n",
    "# print(f\"{stock_ticker} Market Capitalization: {market_cap}\")\n",
    "# print(f\"Data type of market_cap variable is: {type(market_cap)}\")\n",
    "\n",
    "\n",
    "# # Capture function output and print output value and data type\n",
    "# def calculate_market_cap(market_price, number_of_shares):\n",
    "#     cap = market_price * number_of_shares\n",
    "\n",
    "#     return cap\n",
    "\n",
    "# market_price = 76.06\n",
    "# number_of_shares = 1243600000\n",
    "\n",
    "# market_cap = calculate_market_cap(market_price, number_of_shares)\n",
    "# print(f\"Market Capitalization: {market_cap}\")\n",
    "# print(f\"Data type of market_cap variable is: {type(market_cap)}\")\n",
    "\n",
    "\n"
   ]
  },
  {
   "cell_type": "code",
   "execution_count": 22,
   "metadata": {},
   "outputs": [
    {
     "name": "stdout",
     "output_type": "stream",
     "text": [
      "Year one growth is 55.17%\n",
      "Year two growth is 4.44%\n",
      "Year three growth is 4.11%\n"
     ]
    }
   ],
   "source": [
    "# def x(beginning_balance, ending_balance, years):\n",
    "#     growth_rate = round((((ending_balance / beginning_balance) ** (1 / years)) - 1) * 100, 2)\n",
    "#     return growth_rate\n",
    "\n",
    "# beginning_balance = 29000.00\n",
    "# ending_balance = 45000.00\n",
    "# years = 1.0\n",
    "\n",
    "# year_one_growth = x(beginning_balance, ending_balance, years)\n",
    "\n",
    "# beginning_balance = 45000.00\n",
    "# ending_balance = 47000.00\n",
    "\n",
    "# year_two_growth = x(beginning_balance, ending_balance, years)\n",
    "\n",
    "\n",
    "# beginning_balance = 47000.00\n",
    "# ending_balance = 48930.00\n",
    "\n",
    "# year_three_growth = x(beginning_balance, ending_balance, years)\n",
    "\n",
    "# print(f\"Year one growth is {year_one_growth}%\")\n",
    "# print(f\"Year two growth is {year_two_growth}%\")\n",
    "# print(f\"Year three growth is {year_three_growth}%\")\n",
    "\n",
    "\n",
    "\n"
   ]
  },
  {
   "cell_type": "code",
   "execution_count": 31,
   "metadata": {},
   "outputs": [
    {
     "name": "stdout",
     "output_type": "stream",
     "text": [
      "Growth rates:  [0.5517275862068964, 0.04444212346194787, 0.04106382978723411]\n"
     ]
    }
   ],
   "source": [
    "# Create a global, empty list\n",
    "growth_rates = list()\n",
    "\n",
    "# Define a function called\n",
    "def calculate_compound_growth_rate_list(beginning_balance, ending_balance, years):\n",
    "    growth_rate = (ending_balance / beginning_balance)**(1/years) - 1\n",
    "\n",
    "    # Populate growth_rates\n",
    "    growth_rates.append(growth_rate)\n",
    "    \n",
    "\n",
    "# Populate growth_rates list with 2016 values by calling calculate_compound_growth_rate_list.\n",
    "beginning_balance = 29000.00\n",
    "ending_balance = 45000.10\n",
    "calculate_compound_growth_rate_list(beginning_balance, ending_balance, years)\n",
    "\n",
    "\n",
    "# # Populate growth_rates list with 2017 values by calling calculate_compound_growth_rate_list.\n",
    "beginning_balance = 45000.10\n",
    "ending_balance = 47000.00\n",
    "calculate_compound_growth_rate_list(beginning_balance, ending_balance, years)\n",
    "\n",
    "# # Populate growth_rates list with 2018 values by calling calculate_compound_growth_rate_list.\n",
    "beginning_balance = 47000.00\n",
    "ending_balance = 48930.00\n",
    "calculate_compound_growth_rate_list(beginning_balance, ending_balance, years)\n",
    "\n",
    "# # Print growth_rates list\n",
    "print(\"Growth rates: \", growth_rates)\n"
   ]
  },
  {
   "cell_type": "code",
   "execution_count": null,
   "metadata": {},
   "outputs": [],
   "source": []
  }
 ],
 "metadata": {
  "kernelspec": {
   "display_name": "Python 3",
   "language": "python",
   "name": "python3"
  },
  "language_info": {
   "codemirror_mode": {
    "name": "ipython",
    "version": 3
   },
   "file_extension": ".py",
   "mimetype": "text/x-python",
   "name": "python",
   "nbconvert_exporter": "python",
   "pygments_lexer": "ipython3",
   "version": "3.7.7"
  }
 },
 "nbformat": 4,
 "nbformat_minor": 4
}
