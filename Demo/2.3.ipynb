{
 "cells": [
  {
   "cell_type": "markdown",
   "metadata": {},
   "source": [
    "# Functions and Files"
   ]
  },
  {
   "cell_type": "markdown",
   "metadata": {},
   "source": [
    "### 01_ins_resfresher"
   ]
  },
  {
   "cell_type": "code",
   "execution_count": null,
   "metadata": {},
   "outputs": [],
   "source": [
    "\"\"\"\n",
    "Python refresher activity.\n",
    "\n",
    "This script showcases basic operations in Python such as variables,\n",
    "conditionals, lists, dicts, for loops, and functions.\n",
    "\"\"\"\n",
    "\n",
    "# Variables\n",
    "# Creates a variable with a string \"Frankfurter\"\n",
    "title = \"Frankfurter\"\n",
    "years = 23\n",
    "hourly_wage = 65.40\n",
    "expert_status = True"
   ]
  },
  {
   "cell_type": "code",
   "execution_count": null,
   "metadata": {},
   "outputs": [],
   "source": [
    "# Conditionals\n",
    "# Declare variables and values for evaluation\n",
    "x = 1\n",
    "y = 10\n",
    "\n",
    "# Checks if one value is equal to another\n",
    "if x == 1:\n",
    "    print(\"x is equal to 1\")"
   ]
  },
  {
   "cell_type": "code",
   "execution_count": 1,
   "metadata": {},
   "outputs": [
    {
     "name": "stdout",
     "output_type": "stream",
     "text": [
      "Creating a list of Pokemon...\n",
      "['Pikachu', 'Charizard', 'Bulbasaur', 'Garydos', 'Dragonite']\n"
     ]
    }
   ],
   "source": [
    "# Lists\n",
    "# Create a list of Pokemon\n",
    "print(\"Creating a list of Pokemon...\")\n",
    "pokemon = [\"Pikachu\", \"Charizard\", \"Bulbasaur\", \"Garydos\", \"Dragonite\"]\n",
    "print(pokemon)"
   ]
  },
  {
   "cell_type": "code",
   "execution_count": 3,
   "metadata": {},
   "outputs": [
    {
     "data": {
      "text/plain": [
       "2"
      ]
     },
     "execution_count": 3,
     "metadata": {},
     "output_type": "execute_result"
    }
   ],
   "source": [
    "pokemon.index('Bulbasaur')\n"
   ]
  },
  {
   "cell_type": "code",
   "execution_count": null,
   "metadata": {},
   "outputs": [],
   "source": [
    "new_pokemon = list(pokemon)\n",
    "new_pokemon + num"
   ]
  },
  {
   "cell_type": "code",
   "execution_count": null,
   "metadata": {},
   "outputs": [],
   "source": [
    "# Loop over list\n",
    "# Loop through a range of numbers (0 through 4)\n",
    "for x in range(5):\n",
    "    print(x)"
   ]
  },
  {
   "cell_type": "code",
   "execution_count": null,
   "metadata": {},
   "outputs": [],
   "source": [
    "# Dicts\n",
    "# Initialize a dictionary\n",
    "trading_pnl = {\n",
    "  \"title\": \"Trading Log\",\n",
    "  \"03-18-2019\": -224,\n",
    "  \"03-19-2019\": 352,\n",
    "  \"03-20-2019\": 252,\n",
    "  \"03-21-2019\": 354,\n",
    "  \"03-22-2019\": -544,\n",
    "  \"03-23-2019\": -650,\n",
    "  \"03-24-2019\": 56,\n",
    "  \"03-25-2019\": 123,\n",
    "  \"03-26-2019\": -43,\n",
    "  \"03-27-2019\": 254,\n",
    "  \"03-28-2019\": 325,\n",
    "  \"03-29-2019\": -123,\n",
    "  \"03-30-2019\": 47,\n",
    "  \"03-31-2019\": 321,\n",
    "  \"04-01-2019\": 123,\n",
    "  \"04-02-2019\": 133,\n",
    "  \"04-03-2019\": -151,\n",
    "  \"04-04-2019\": 613,\n",
    "  \"04-05-2019\": 232,\n",
    "  \"04-06-2019\": -311\n",
    "}"
   ]
  },
  {
   "cell_type": "code",
   "execution_count": null,
   "metadata": {},
   "outputs": [],
   "source": [
    "# Traverse/access nested objects\n",
    "# List of Dicts\n",
    "ceos = [\n",
    "  {\n",
    "      \"name\": \"Warren Buffet\",\n",
    "      \"age\": 88,\n",
    "      \"occupation\": \"CEO of Berkshire Hathaway\"\n",
    "  },\n",
    "  {\n",
    "      \"name\": \"Jeff Bezos\",\n",
    "      \"age\": 55,\n",
    "      \"occupation\": \"CEO of Amazon\"\n",
    "  },\n",
    "  {\n",
    "      \"name\": \"Harry Markowitz\",\n",
    "      \"age\": 91,\n",
    "      \"occupation\": \"Professor of Finance\"\n",
    "  }\n",
    "]"
   ]
  },
  {
   "cell_type": "code",
   "execution_count": null,
   "metadata": {},
   "outputs": [],
   "source": [
    "# Define a function\n",
    "# Define a main function that accepts a string argument\n",
    "def main(stock_ticker):\n",
    "    print(stock_ticker + \" is booming right now!\")\n",
    "\n",
    "stock_ticker = \"SBUX\"\n",
    "main(stock_ticker)"
   ]
  },
  {
   "cell_type": "code",
   "execution_count": 4,
   "metadata": {},
   "outputs": [
    {
     "data": {
      "text/plain": [
       "9"
      ]
     },
     "execution_count": 4,
     "metadata": {},
     "output_type": "execute_result"
    }
   ],
   "source": [
    "def raise_to_power(num, power=2):\n",
    "    return num**power\n",
    "raise_to_power(3)"
   ]
  },
  {
   "cell_type": "markdown",
   "metadata": {},
   "source": [
    "### 02_stu_refresher"
   ]
  },
  {
   "cell_type": "code",
   "execution_count": null,
   "metadata": {},
   "outputs": [],
   "source": [
    "\"\"\"Refresher activity.\n",
    "\n",
    "This script will use variables, conditionals, lists, dicts, and functions\n",
    "to print out different greetings for customers based on their\n",
    "business tier (determined by revenue).\n",
    "\"\"\"\n",
    "\n",
    "# List of dicts\n",
    "customers = [\n",
    "    { \"first_name\": \"Tom\", \"last_name\": \"Bell\", \"revenue\": 0 },\n",
    "    { \"first_name\": \"Maggie\", \"last_name\": \"Johnson\", \"revenue\": 1032 },\n",
    "    { \"first_name\": \"John\", \"last_name\": \"Spectre\", \"revenue\": 2543 },\n",
    "    { \"first_name\": \"Susy\", \"last_name\": \"Simmons\", \"revenue\": 5322 }\n",
    "]\n",
    "\n",
    "# @TODO Define a function that accepts a customer first_name, last_name, and\n",
    "# revenue and returns a custom greeting with the full name.\n",
    "# Use these ranges to determine the business tier (and corresponding message)\n",
    "# for each customer.\n",
    "#   Platinum = 3001+\n",
    "#   Gold = 2001-3000\n",
    "#   Silver = 1001-2000\n",
    "#   Bronze = 0-1000\n",
    "def create_greeting(first_name, last_name, revenue):\n",
    "    # @TODO: YOUR CODE HERE!\n",
    "    greeting = \"\"\n",
    "    return greeting\n",
    "\n",
    "# @TODO: Loop through the list of customers and use your function to print\n",
    "# custom greetings for each customer.\n",
    "# @TODO: YOUR CODE HERE!"
   ]
  },
  {
   "cell_type": "markdown",
   "metadata": {},
   "source": [
    "### 03_Ins_Time_Value_of_Money"
   ]
  },
  {
   "cell_type": "code",
   "execution_count": null,
   "metadata": {},
   "outputs": [],
   "source": [
    "\"\"\"\n",
    "Instructor Demo: Time Value of Money Functions.\n",
    "This script contains functions that can calculate future values and present values.\n",
    "\"\"\"\n",
    "\n",
    "\n",
    "def calculate_future_value(present_value, interest_rate, compounding_periods, years):\n",
    "    \"\"\"\n",
    "    Calculates the future value of money given the present_value, interest rate, compounding period, and number of years.\n",
    "    Args:\n",
    "        present_value (float): The present value\n",
    "        interest_rate (float): The interest rate\n",
    "        periods (int): The compounding period\n",
    "        years (int): The number of years\n",
    "    Returns:\n",
    "        The future value of money.\n",
    "    \"\"\"\n",
    "    future_value = present_value * (1 + interest_rate / compounding_periods) ** (compounding_periods * years) \n",
    "    \n",
    "    future_value_formatted = round(future_value, 2)\n",
    "\n",
    "    return future_value_formatted\n",
    "\n",
    "# Set the values\n",
    "present_value = 10000\n",
    "interest_rate = .1\n",
    "compounding_periods = 1\n",
    "years = 3\n",
    "\n",
    "# Call the calculate_future_value() function\n",
    "calculated_future_value = calculate_future_value(present_value, interest_rate, compounding_periods, years)\n",
    "\n",
    "# Print out the future_value result\n",
    "print(f\"The future value of ${present_value} at an interest rate of {interest_rate} compounded {compounding_periods} time(s) every year over {years} years is ${calculated_future_value}\")"
   ]
  },
  {
   "cell_type": "markdown",
   "metadata": {},
   "source": [
    "### 04_Stu_Time_Value_of_Money"
   ]
  },
  {
   "cell_type": "code",
   "execution_count": null,
   "metadata": {},
   "outputs": [],
   "source": [
    "\"\"\"\n",
    "Zero-Coupon Bond Valuation.\n",
    "\n",
    "This script will calculate the present value of zero-coupon bonds, compare the present value to the price of the bond, and determine the corresponding action (buy, not buy, neutral).\n",
    "\"\"\"\n",
    "\n",
    "\n",
    "# @TODO: Create a function to calculate present value\n",
    "\n",
    "\n",
    "# Intialize the zero-coupon bond parameters, assume compounding period is equal to 1\n",
    "price = 700\n",
    "future_value = 1000\n",
    "discount_rate = .1\n",
    "compounding_periods = 1\n",
    "years = 5\n",
    "\n",
    "# @TODO: Call the calculate_present_value() function and assign to a variables\n",
    "\n",
    "\n",
    "# @TODO: Determine if the bond is worth it\n",
    "    "
   ]
  },
  {
   "cell_type": "markdown",
   "metadata": {},
   "source": [
    "### 05-Ins_Imports"
   ]
  },
  {
   "cell_type": "code",
   "execution_count": null,
   "metadata": {},
   "outputs": [],
   "source": [
    "\"\"\"Instructor Demo: Imports.\n",
    "\n",
    "This script will showcase the use of imports of both custom code (functions.py)\n",
    "and standard libraries (NumPy).\n",
    "\"\"\"\n",
    "\n",
    "# Call the print_hello() function via a reference to\n",
    "# the imported module functions.py\n",
    "import functions\n",
    "functions.print_goodbye()"
   ]
  },
  {
   "cell_type": "code",
   "execution_count": null,
   "metadata": {},
   "outputs": [],
   "source": [
    "# Call the print_hello() function imported directly from functions.py\n",
    "from functions import print_hello\n",
    "print_hello()"
   ]
  },
  {
   "cell_type": "code",
   "execution_count": null,
   "metadata": {},
   "outputs": [],
   "source": [
    "# !pip install numpy_financial\n",
    "\n",
    "# Import the NumPy library\n",
    "import numpy_financial\n",
    "\n",
    "# Initialize variables\n",
    "interest_rate = .1\n",
    "cash_flows = [-1000, 400, 400, 400, 400]\n",
    "\n",
    "#Call the NPV function from the NumPy library\n",
    "net_present_value = numpy_financial.npv(interest_rate, cash_flows)\n",
    "print(f\"NPV = {net_present_value}\")"
   ]
  },
  {
   "cell_type": "markdown",
   "metadata": {},
   "source": [
    "### 06_Stu_Imports"
   ]
  },
  {
   "cell_type": "code",
   "execution_count": null,
   "metadata": {},
   "outputs": [],
   "source": [
    "\"\"\"Student Activity: Financial Analysis using NPV.\n",
    "\n",
    "This script will choose the optimal project scenario to\n",
    "undertake based on max NPV values.\n",
    "\"\"\"\n",
    "\n",
    "# @TODO: Import the NumPy library\n",
    "\n",
    "\n",
    "# Discount Rate\n",
    "discount_rate = .1\n",
    "\n",
    "# Initial Investment, Cash Flow 1, Cash Flow 2, Cash Flow 3, Cash Flow 4\n",
    "cash_flows_conservative = [-1000, 400, 400, 400, 400]\n",
    "cash_flows_neutral = [-1500, 600, 600, 600, 600]\n",
    "cash_flows_aggressive = [-2250, 800, 800, 800, 800]\n",
    "\n",
    "# @TODO: Initialize dictionary to hold NPV return values\n",
    "npv_dict = {}\n",
    "\n",
    "# @TODO: Calculate the NPV for each scenario\n",
    "\n",
    "\n",
    "# @TODO: Initialize variables\n",
    "\n",
    "\n",
    "# @TODO: Iterate over npv_dict to find the max key-value pair\n",
    "\n",
    "\n",
    "# @TODO: Print out the optimal project scenario with the highest NPV value"
   ]
  },
  {
   "cell_type": "markdown",
   "metadata": {},
   "source": [
    "### 07-Ins_File_IO"
   ]
  },
  {
   "cell_type": "code",
   "execution_count": null,
   "metadata": {
    "scrolled": true
   },
   "outputs": [],
   "source": [
    "\"\"\"Instructor Demo: File IO.\n",
    "\n",
    "This script will use the Pathlib library to set the file path\n",
    "and Python's built-in open() function to read in a text file. Then\n",
    "write the contents to an output file.\n",
    "\"\"\"\n",
    "\n",
    "# Import from the pathlib library, the main class Path\n",
    "from pathlib import Path\n",
    "\n",
    "# Check the current directory where the Python program is executing from\n",
    "print(f\"Current Working Directory: {Path.cwd()}\")\n",
    "\n",
    "\n",
    "# Set the input file path irregardless of OS\n",
    "filepath = Path(\"../Resources/input.txt\")\n",
    "\n",
    "# Open the file in \"read\" mode ('r') and store the\n",
    "# contents in the variable \"text\"\n",
    "with open(filepath, 'r') as file:\n",
    "    # Store all of the text from the file inside a variable called \"text\"\n",
    "    # and print the contexts of the text file\n",
    "    text = file.read()\n",
    "    print(text)\n",
    "    \n",
    "    line_num = 1\n",
    "    for line in file:\n",
    "        print(f\"line {line_num}: {line}\")\n",
    "        line_num += 1"
   ]
  },
  {
   "cell_type": "markdown",
   "metadata": {},
   "source": [
    "### 08-Stu_File_IO"
   ]
  },
  {
   "cell_type": "code",
   "execution_count": null,
   "metadata": {},
   "outputs": [],
   "source": [
    "\"\"\"Student Do: E-Commerce Traffic.\n",
    "\n",
    "This script will parse through a text file and sum the total\n",
    "number of customers and the count of days in the text file to\n",
    "calculate the daily average of customer traffic for an e-commerce\n",
    "business.\n",
    "\"\"\"\n",
    "\n",
    "# @TODO: From the pathlib library, import the main class Path\n",
    "\n",
    "\n",
    "# @TODO: Check the current directory where the Python program is executing from\n",
    "\n",
    "\n",
    "# @TODO: Set the path using Pathlib\n",
    "\n",
    "\n",
    "# Initialize variables\n",
    "customer_total = 0\n",
    "day_count = 0\n",
    "\n",
    "# @TODO: Open the file in \"read\" mode ('r') and store the contents in the variable 'file'\n",
    "\n",
    "    # @TODO: Parse the file line by line\n",
    "\n",
    "\n",
    "        # @TODO: Convert the number in the text file from string to int (allows for numerical calculations)\n",
    "\n",
    "\n",
    "        # @TODO: Sum the total and count of the numbers in the text file\n",
    "\n",
    "\n",
    "\n",
    "# @TODO: Print out customer_total and day_count\n",
    "\n",
    "\n",
    "# @TODO: Calculate the average\n",
    "\n",
    "\n",
    "\n",
    "# @TODO: Set output file name\n",
    "\n",
    "\n",
    "# @TODO: Open the output path as a file object\n",
    "\n",
    "    # @TODO: Write daily_average to the output file, convert to string"
   ]
  },
  {
   "cell_type": "markdown",
   "metadata": {},
   "source": [
    "### 09-Ins_CSV_Reader"
   ]
  },
  {
   "cell_type": "code",
   "execution_count": null,
   "metadata": {},
   "outputs": [],
   "source": [
    "\"\"\"Instructor Demo: CSV Reader.\n",
    "\n",
    "This script will use the Pathlib library to set the file path,\n",
    "use the csv library to read in the file, iterate over each\n",
    "row of the file to capture employee salaries, calculate min,\n",
    "max, avg metrics of employee salaries, and write the metrics\n",
    "to a csv file.\n",
    "\"\"\"\n",
    "# Import the pathlib and csv library\n",
    "from pathlib import Path\n",
    "import csv\n",
    "\n",
    "# Set the file path\n",
    "csvpath = Path('../Resources/accounting.csv')\n",
    "\n",
    "# Initialize variable to hold salaries\n",
    "salaries = []\n",
    "\n",
    "# Initialize line_num variable\n",
    "line_num = 0\n",
    "\n",
    "# Open the input path as a file object\n",
    "with open(csvpath, 'r') as csvfile:\n",
    "\n",
    "    # Print the datatype of the file object\n",
    "    print(type(csvfile))\n",
    "\n",
    "    # Pass in the csv file to the csv.reader() function\n",
    "    # (with ',' as the delmiter/separator) and return the csvreader object\n",
    "    csvreader = csv.reader(csvfile, delimiter=',')\n",
    "    # Print the datatype of the csvreader\n",
    "    print(type(csvreader))\n",
    "\n",
    "    # Go to the next row from the start of the file\n",
    "    # (which is often the first row/header) and iterate line_num by 1\n",
    "    header = next(csvreader)\n",
    "    line_num += 1\n",
    "    # Print the header\n",
    "    print(f\"{header} <---- HEADER\")\n",
    "    # Read each row of data after the header\n",
    "    for row in csvreader:\n",
    "        # Print the row\n",
    "        print(row)\n",
    "        # Set salary variable equal to the value in the 4th column of each row\n",
    "        salary = int(row[3])\n",
    "        # Append the row salary value to the list of salaries\n",
    "        salaries.append(salary)"
   ]
  },
  {
   "cell_type": "code",
   "execution_count": null,
   "metadata": {},
   "outputs": [],
   "source": [
    "# Initialize metric variables\n",
    "max_salary = 0\n",
    "min_salary = 0\n",
    "avg_salary = 0\n",
    "total_salary = 0\n",
    "count_salary = 0\n",
    "\n",
    "# Calculate the max, mean, and average of the list of salaries\n",
    "for salary in salaries:\n",
    "\n",
    "    # Sum the total and count variables\n",
    "    total_salary += salary\n",
    "    count_salary += 1\n",
    "\n",
    "    # Logic to determine min and max salaries\n",
    "    if min_salary == 0:\n",
    "        min_salary = salary\n",
    "    elif salary > max_salary:\n",
    "        max_salary = salary\n",
    "    elif salary < min_salary:\n",
    "        min_salary = salary\n",
    "\n",
    "# Calculate the average salary, round to the nearest 2 decimal places\n",
    "avg_salary = round(total_salary / count_salary, 2)\n",
    "\n",
    "# Print the metrics\n",
    "print(max_salary, min_salary, avg_salary)\n",
    "\n",
    "# Set the output header\n",
    "header = [\"Max_Salary\", \"Min_Salary\", \"Avg_Salary\"]\n",
    "# Create a list of metrics\n",
    "metrics = [max_salary, min_salary, avg_salary]"
   ]
  },
  {
   "cell_type": "code",
   "execution_count": null,
   "metadata": {},
   "outputs": [],
   "source": [
    "# Set the output file path\n",
    "output_path = Path('../Resources/output.csv') \n",
    "\n",
    "# Open the output path as a file object\n",
    "with open(output_path, 'w') as csvfile:\n",
    "    # Set the file object as a csvwriter object\n",
    "    csvwriter = csv.writer(csvfile, delimiter=',')\n",
    "    # Write the header to the output file\n",
    "    csvwriter.writerow(header)\n",
    "    # Write the list of metrics to the output file\n",
    "    csvwriter.writerow(metrics)\n",
    "\n",
    "with open(output_path, 'r') as csvfile:\n",
    "\n",
    "    # Pass in the csv file to the csv.reader() function\n",
    "    # (with ',' as the delmiter/separator) and return the csvreader object\n",
    "    csvreader = csv.reader(csvfile, delimiter=',')\n",
    "\n",
    "    for row in csvreader:\n",
    "        # Print the row\n",
    "        print(row)  \n",
    "        "
   ]
  },
  {
   "cell_type": "markdown",
   "metadata": {},
   "source": [
    "### 10-Stu_CSV_Reader"
   ]
  },
  {
   "cell_type": "code",
   "execution_count": null,
   "metadata": {},
   "outputs": [],
   "source": [
    "\"\"\"Student Do: Sales Analysis.\n",
    "\n",
    "This script will use the Pathlib library to set the file path,\n",
    "use the csv library to read in the file, and iterate over each\n",
    "row of the file to calculate customer sales averages.\n",
    "\"\"\"\n",
    "\n",
    "# @TODO: Import the pathlib and csv library\n",
    "\n",
    "\n",
    "\n",
    "# @TODO: Set the file path\n",
    "\n",
    "\n",
    "# Initialize list of records\n",
    "records = []\n",
    "\n",
    "# @TODO: Open the csv file as an object\n",
    "\n",
    "\n",
    "    # @TODO:\n",
    "    # Pass in the csv file to the csv.reader() function\n",
    "    # (with ',' as the delmiter/separator) and return the csvreader object\n",
    "\n",
    "    # @TODO: Read the header row\n",
    "\n",
    "    # @TODO: Print the header\n",
    "\n",
    "\n",
    "    # @TODO: Append the column 'Average' to the header\n",
    "\n",
    "    # @TODO: Append the header to the list of records\n",
    "\n",
    "\n",
    "    # @TODO: Read each row of data after the header\n",
    "\n",
    "        # @TODO: Print the row\n",
    "\n",
    "        # @TODO:\n",
    "        # Set the 'name', 'count', 'revenue' variables for better\n",
    "        # readability, convert strings to ints for numerical calculations\n",
    "\n",
    "\n",
    "\n",
    "\n",
    "        # @TODO: Calculate the average (round to the nearest 2 decimal places)\n",
    "\n",
    "\n",
    "        # @TODO: Append the average to the row\n",
    "\n",
    "        # @TODO: Append the row to the list of records\n",
    "\n",
    "\n",
    "# @TODO: Set the path for the output.csv\n",
    "\n",
    "# @TODO:\n",
    "# Open the output path as a file and pass into the 'csv.writer()' function\n",
    "# Set the delimiter/separater as a ','\n",
    "\n",
    "\n",
    "    # @TODO:\n",
    "    # Loop through the list of records and write every record to the\n",
    "    # output csv file"
   ]
  },
  {
   "cell_type": "code",
   "execution_count": null,
   "metadata": {},
   "outputs": [],
   "source": [
    "\"\"\"Student Do: Sales Analysis.\n",
    "\n",
    "This script will use the Pathlib library to set the file path,\n",
    "use the csv library to read in the file, and iterate over each\n",
    "row of the file to calculate customer sales averages.\n",
    "\"\"\"\n",
    "\n",
    "# @TODO: Import the pathlib and csv library\n",
    "\n",
    "\n",
    "\n",
    "# @TODO: Set the file path\n",
    "\n",
    "\n",
    "# @TODO: Initialize dictionary\n",
    "\n",
    "\n",
    "# @TODO: Open the csv file as an object\n",
    "\n",
    "    # @TODO:\n",
    "    # Pass in the csv file to the csv.reader() function\n",
    "    # (with ',' as the delmiter/separator) and return the csvreader object\n",
    "\n",
    "\n",
    "    # @TODO: Read the header row first (skip this step if there is no header)\n",
    "\n",
    "    # @TODO: Print the header\n",
    "\n",
    "\n",
    "    # @TODO: Read each row of data after the header\n",
    "\n",
    "        # @TODO: Print the row\n",
    "\n",
    "        # @TODO:\n",
    "        # Set the 'name', 'count', and 'revenue' variables for better\n",
    "        # readability, convert strings to ints for numerical calculations\n",
    "\n",
    "\n",
    "\n",
    "\n",
    "        # @TODO: Calculate the average and round to the nearest 2 decimal places\n",
    "\n",
    "        # @TODO:\n",
    "        # If name is not already in the analysis dict, initialize the dictionary\n",
    "        # Else continue to add to the existing key and nested key-value pairs\n",
    "\n",
    "\n",
    "\n",
    "\n",
    "\n",
    "\n",
    "# @TODO: Set the header for aggregate.csv\n",
    "\n",
    "\n",
    "# @TODO: Set the path for the aggregate.csv\n",
    "\n",
    "# @TODO:\n",
    "# Open the output path as a file and pass into the 'csv.writer()' function\n",
    "# Set the delimiter/separater as a ','\n",
    "\n",
    "\n",
    "\n",
    "    # @TODO: Write the header as the first row\n",
    "\n",
    "    # @TODO:\n",
    "    # Loop over every key in analysis and write the associated key (name) and\n",
    "    # nested key-value pairs (metrics)\n",
    "    "
   ]
  },
  {
   "cell_type": "code",
   "execution_count": null,
   "metadata": {},
   "outputs": [],
   "source": []
  }
 ],
 "metadata": {
  "kernelspec": {
   "display_name": "Python 3",
   "language": "python",
   "name": "python3"
  },
  "language_info": {
   "codemirror_mode": {
    "name": "ipython",
    "version": 3
   },
   "file_extension": ".py",
   "mimetype": "text/x-python",
   "name": "python",
   "nbconvert_exporter": "python",
   "pygments_lexer": "ipython3",
   "version": "3.7.7"
  }
 },
 "nbformat": 4,
 "nbformat_minor": 4
}
