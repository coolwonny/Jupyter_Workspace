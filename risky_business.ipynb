{
 "cells": [
  {
   "cell_type": "markdown",
   "metadata": {},
   "source": [
    "# Risky Business"
   ]
  },
  {
   "cell_type": "markdown",
   "metadata": {},
   "source": [
    "Harold has been boasting about his recent cryptocurrency returns. He's even bet you five bucks that his trading algorithm has made his returns better than yours. Calculate the standard deviation and sharpe ratio for each your portfolios to determine which portfolio is the better investment based off of the greatest risk to reward ratio."
   ]
  },
  {
   "cell_type": "code",
   "execution_count": 1,
   "metadata": {},
   "outputs": [],
   "source": [
    "import pandas as pd\n",
    "import numpy as np\n",
    "from pathlib import Path\n",
    "%matplotlib inline"
   ]
  },
  {
   "cell_type": "markdown",
   "metadata": {},
   "source": [
    "### Read in data"
   ]
  },
  {
   "cell_type": "code",
   "execution_count": 2,
   "metadata": {},
   "outputs": [],
   "source": [
    "harold_portfolio_path = Path(\"../../Resources/harold_portfolio.csv\")\n",
    "my_portfolio_path = Path(\"../../Resources/my_portfolio.csv\")\n",
    "\n",
    "# Read in data\n",
    "harold_portfolio = pd.read_csv(harold_portfolio_path, parse_dates=True, infer_datetime_format=True)\n",
    "my_portfolio = pd.read_csv(my_portfolio_path, parse_dates=True, infer_datetime_format=True)\n",
    "\n",
    "# Drop na\n",
    "# harold_portfolio = harold_portfolio.dropna()\n",
    "# my_portfolio = my_portfolio.dropna()\n",
    "\n",
    "# Set Date as index\n",
    "harold_portfolio = harold_portfolio.set_index('Date')\n",
    "my_portfolio = my_portfolio.set_index('Date')\n",
    "\n",
    "harold_portfolio.sort_index(ascending=True, inplace=True)\n",
    "my_portfolio.sort_index(ascending=True, inplace=True)\n",
    "\n",
    "harold_1yr = harold_portfolio.loc['2018-05-20':'2019-05-20']\n",
    "harold_returns = harold_1yr.pct_change()\n",
    "harold_std = harold_returns.std()\n",
    "\n",
    "my_1yr = my_portfolio.loc['2018-05-20':'2019-05-20']\n",
    "my_returns = my_1yr.pct_change()\n",
    "my_std = my_returns.std()\n",
    "\n"
   ]
  },
  {
   "cell_type": "markdown",
   "metadata": {},
   "source": [
    "### Calculate daily returns "
   ]
  },
  {
   "cell_type": "code",
   "execution_count": null,
   "metadata": {},
   "outputs": [],
   "source": []
  },
  {
   "cell_type": "markdown",
   "metadata": {},
   "source": [
    "### `Concat` portfolios into one DataFrame"
   ]
  },
  {
   "cell_type": "code",
   "execution_count": 3,
   "metadata": {},
   "outputs": [
    {
     "data": {
      "text/html": [
       "<div>\n",
       "<style scoped>\n",
       "    .dataframe tbody tr th:only-of-type {\n",
       "        vertical-align: middle;\n",
       "    }\n",
       "\n",
       "    .dataframe tbody tr th {\n",
       "        vertical-align: top;\n",
       "    }\n",
       "\n",
       "    .dataframe thead th {\n",
       "        text-align: right;\n",
       "    }\n",
       "</style>\n",
       "<table border=\"1\" class=\"dataframe\">\n",
       "  <thead>\n",
       "    <tr style=\"text-align: right;\">\n",
       "      <th></th>\n",
       "      <th>BTC</th>\n",
       "      <th>BTT</th>\n",
       "      <th>DOGE</th>\n",
       "      <th>ETH</th>\n",
       "      <th>LTC</th>\n",
       "      <th>XRP</th>\n",
       "      <th>SOLVE</th>\n",
       "      <th>XLM</th>\n",
       "      <th>TRON</th>\n",
       "      <th>ZIL</th>\n",
       "      <th>BTC</th>\n",
       "      <th>DOGE</th>\n",
       "      <th>ETH</th>\n",
       "      <th>LTC</th>\n",
       "      <th>XRP</th>\n",
       "      <th>XLM</th>\n",
       "    </tr>\n",
       "    <tr>\n",
       "      <th>Date</th>\n",
       "      <th></th>\n",
       "      <th></th>\n",
       "      <th></th>\n",
       "      <th></th>\n",
       "      <th></th>\n",
       "      <th></th>\n",
       "      <th></th>\n",
       "      <th></th>\n",
       "      <th></th>\n",
       "      <th></th>\n",
       "      <th></th>\n",
       "      <th></th>\n",
       "      <th></th>\n",
       "      <th></th>\n",
       "      <th></th>\n",
       "      <th></th>\n",
       "    </tr>\n",
       "  </thead>\n",
       "  <tbody>\n",
       "    <tr>\n",
       "      <th>2018-05-20</th>\n",
       "      <td>NaN</td>\n",
       "      <td>NaN</td>\n",
       "      <td>NaN</td>\n",
       "      <td>NaN</td>\n",
       "      <td>NaN</td>\n",
       "      <td>NaN</td>\n",
       "      <td>NaN</td>\n",
       "      <td>NaN</td>\n",
       "      <td>NaN</td>\n",
       "      <td>NaN</td>\n",
       "      <td>NaN</td>\n",
       "      <td>NaN</td>\n",
       "      <td>NaN</td>\n",
       "      <td>NaN</td>\n",
       "      <td>NaN</td>\n",
       "      <td>NaN</td>\n",
       "    </tr>\n",
       "    <tr>\n",
       "      <th>2018-05-21</th>\n",
       "      <td>-0.014491</td>\n",
       "      <td>NaN</td>\n",
       "      <td>0.039439</td>\n",
       "      <td>0.025921</td>\n",
       "      <td>0.032444</td>\n",
       "      <td>0.032224</td>\n",
       "      <td>NaN</td>\n",
       "      <td>NaN</td>\n",
       "      <td>0.042193</td>\n",
       "      <td>NaN</td>\n",
       "      <td>0.034152</td>\n",
       "      <td>0.039439</td>\n",
       "      <td>0.025921</td>\n",
       "      <td>0.032444</td>\n",
       "      <td>0.032224</td>\n",
       "      <td>0.028932</td>\n",
       "    </tr>\n",
       "    <tr>\n",
       "      <th>2018-05-22</th>\n",
       "      <td>-0.048340</td>\n",
       "      <td>NaN</td>\n",
       "      <td>0.037099</td>\n",
       "      <td>-0.024132</td>\n",
       "      <td>-0.036734</td>\n",
       "      <td>0.043133</td>\n",
       "      <td>NaN</td>\n",
       "      <td>NaN</td>\n",
       "      <td>0.012977</td>\n",
       "      <td>NaN</td>\n",
       "      <td>-0.014491</td>\n",
       "      <td>0.037099</td>\n",
       "      <td>-0.024132</td>\n",
       "      <td>-0.036734</td>\n",
       "      <td>0.043133</td>\n",
       "      <td>0.015076</td>\n",
       "    </tr>\n",
       "    <tr>\n",
       "      <th>2018-05-23</th>\n",
       "      <td>-0.060430</td>\n",
       "      <td>NaN</td>\n",
       "      <td>-0.042818</td>\n",
       "      <td>-0.080758</td>\n",
       "      <td>-0.045807</td>\n",
       "      <td>-0.014571</td>\n",
       "      <td>NaN</td>\n",
       "      <td>NaN</td>\n",
       "      <td>-0.045161</td>\n",
       "      <td>NaN</td>\n",
       "      <td>-0.048340</td>\n",
       "      <td>-0.042818</td>\n",
       "      <td>-0.080758</td>\n",
       "      <td>-0.045807</td>\n",
       "      <td>-0.014571</td>\n",
       "      <td>-0.035502</td>\n",
       "    </tr>\n",
       "    <tr>\n",
       "      <th>2018-05-24</th>\n",
       "      <td>0.010546</td>\n",
       "      <td>NaN</td>\n",
       "      <td>0.034541</td>\n",
       "      <td>-0.098829</td>\n",
       "      <td>-0.072282</td>\n",
       "      <td>0.023570</td>\n",
       "      <td>NaN</td>\n",
       "      <td>NaN</td>\n",
       "      <td>0.023623</td>\n",
       "      <td>NaN</td>\n",
       "      <td>-0.060430</td>\n",
       "      <td>0.034541</td>\n",
       "      <td>-0.098829</td>\n",
       "      <td>-0.072282</td>\n",
       "      <td>0.023570</td>\n",
       "      <td>0.007376</td>\n",
       "    </tr>\n",
       "    <tr>\n",
       "      <th>...</th>\n",
       "      <td>...</td>\n",
       "      <td>...</td>\n",
       "      <td>...</td>\n",
       "      <td>...</td>\n",
       "      <td>...</td>\n",
       "      <td>...</td>\n",
       "      <td>...</td>\n",
       "      <td>...</td>\n",
       "      <td>...</td>\n",
       "      <td>...</td>\n",
       "      <td>...</td>\n",
       "      <td>...</td>\n",
       "      <td>...</td>\n",
       "      <td>...</td>\n",
       "      <td>...</td>\n",
       "      <td>...</td>\n",
       "    </tr>\n",
       "    <tr>\n",
       "      <th>2019-05-16</th>\n",
       "      <td>-0.039540</td>\n",
       "      <td>0.038732</td>\n",
       "      <td>-0.042322</td>\n",
       "      <td>0.145143</td>\n",
       "      <td>0.115280</td>\n",
       "      <td>-0.079600</td>\n",
       "      <td>-0.007365</td>\n",
       "      <td>0.002051</td>\n",
       "      <td>-0.079463</td>\n",
       "      <td>-0.081072</td>\n",
       "      <td>0.026580</td>\n",
       "      <td>-0.042322</td>\n",
       "      <td>0.145143</td>\n",
       "      <td>0.115280</td>\n",
       "      <td>-0.079600</td>\n",
       "      <td>0.002051</td>\n",
       "    </tr>\n",
       "    <tr>\n",
       "      <th>2019-05-17</th>\n",
       "      <td>-0.065398</td>\n",
       "      <td>0.081356</td>\n",
       "      <td>-0.065025</td>\n",
       "      <td>0.061807</td>\n",
       "      <td>-0.063661</td>\n",
       "      <td>-0.079851</td>\n",
       "      <td>0.162057</td>\n",
       "      <td>-0.078094</td>\n",
       "      <td>-0.056728</td>\n",
       "      <td>-0.044486</td>\n",
       "      <td>-0.039540</td>\n",
       "      <td>-0.065025</td>\n",
       "      <td>0.061807</td>\n",
       "      <td>-0.063661</td>\n",
       "      <td>-0.079851</td>\n",
       "      <td>-0.078094</td>\n",
       "    </tr>\n",
       "    <tr>\n",
       "      <th>2019-05-18</th>\n",
       "      <td>-0.013755</td>\n",
       "      <td>0.037618</td>\n",
       "      <td>0.014517</td>\n",
       "      <td>-0.074889</td>\n",
       "      <td>-0.061305</td>\n",
       "      <td>-0.034845</td>\n",
       "      <td>0.108375</td>\n",
       "      <td>0.017944</td>\n",
       "      <td>-0.014585</td>\n",
       "      <td>-0.011569</td>\n",
       "      <td>-0.065398</td>\n",
       "      <td>0.014517</td>\n",
       "      <td>-0.074889</td>\n",
       "      <td>-0.061305</td>\n",
       "      <td>-0.034845</td>\n",
       "      <td>0.017944</td>\n",
       "    </tr>\n",
       "    <tr>\n",
       "      <th>2019-05-19</th>\n",
       "      <td>0.129103</td>\n",
       "      <td>0.063444</td>\n",
       "      <td>0.057571</td>\n",
       "      <td>-0.043174</td>\n",
       "      <td>-0.035937</td>\n",
       "      <td>0.120632</td>\n",
       "      <td>0.044502</td>\n",
       "      <td>0.098205</td>\n",
       "      <td>0.091489</td>\n",
       "      <td>0.083969</td>\n",
       "      <td>-0.013755</td>\n",
       "      <td>0.057571</td>\n",
       "      <td>-0.043174</td>\n",
       "      <td>-0.035937</td>\n",
       "      <td>0.120632</td>\n",
       "      <td>0.098205</td>\n",
       "    </tr>\n",
       "    <tr>\n",
       "      <th>2019-05-20</th>\n",
       "      <td>-0.009952</td>\n",
       "      <td>0.124053</td>\n",
       "      <td>-0.043109</td>\n",
       "      <td>0.115626</td>\n",
       "      <td>0.097057</td>\n",
       "      <td>-0.047156</td>\n",
       "      <td>0.127274</td>\n",
       "      <td>-0.041983</td>\n",
       "      <td>-0.026232</td>\n",
       "      <td>-0.061450</td>\n",
       "      <td>0.129103</td>\n",
       "      <td>-0.043109</td>\n",
       "      <td>0.115626</td>\n",
       "      <td>0.097057</td>\n",
       "      <td>-0.047156</td>\n",
       "      <td>-0.041983</td>\n",
       "    </tr>\n",
       "  </tbody>\n",
       "</table>\n",
       "<p>354 rows × 16 columns</p>\n",
       "</div>"
      ],
      "text/plain": [
       "                 BTC       BTT      DOGE       ETH       LTC       XRP  \\\n",
       "Date                                                                     \n",
       "2018-05-20       NaN       NaN       NaN       NaN       NaN       NaN   \n",
       "2018-05-21 -0.014491       NaN  0.039439  0.025921  0.032444  0.032224   \n",
       "2018-05-22 -0.048340       NaN  0.037099 -0.024132 -0.036734  0.043133   \n",
       "2018-05-23 -0.060430       NaN -0.042818 -0.080758 -0.045807 -0.014571   \n",
       "2018-05-24  0.010546       NaN  0.034541 -0.098829 -0.072282  0.023570   \n",
       "...              ...       ...       ...       ...       ...       ...   \n",
       "2019-05-16 -0.039540  0.038732 -0.042322  0.145143  0.115280 -0.079600   \n",
       "2019-05-17 -0.065398  0.081356 -0.065025  0.061807 -0.063661 -0.079851   \n",
       "2019-05-18 -0.013755  0.037618  0.014517 -0.074889 -0.061305 -0.034845   \n",
       "2019-05-19  0.129103  0.063444  0.057571 -0.043174 -0.035937  0.120632   \n",
       "2019-05-20 -0.009952  0.124053 -0.043109  0.115626  0.097057 -0.047156   \n",
       "\n",
       "               SOLVE       XLM      TRON       ZIL       BTC      DOGE  \\\n",
       "Date                                                                     \n",
       "2018-05-20       NaN       NaN       NaN       NaN       NaN       NaN   \n",
       "2018-05-21       NaN       NaN  0.042193       NaN  0.034152  0.039439   \n",
       "2018-05-22       NaN       NaN  0.012977       NaN -0.014491  0.037099   \n",
       "2018-05-23       NaN       NaN -0.045161       NaN -0.048340 -0.042818   \n",
       "2018-05-24       NaN       NaN  0.023623       NaN -0.060430  0.034541   \n",
       "...              ...       ...       ...       ...       ...       ...   \n",
       "2019-05-16 -0.007365  0.002051 -0.079463 -0.081072  0.026580 -0.042322   \n",
       "2019-05-17  0.162057 -0.078094 -0.056728 -0.044486 -0.039540 -0.065025   \n",
       "2019-05-18  0.108375  0.017944 -0.014585 -0.011569 -0.065398  0.014517   \n",
       "2019-05-19  0.044502  0.098205  0.091489  0.083969 -0.013755  0.057571   \n",
       "2019-05-20  0.127274 -0.041983 -0.026232 -0.061450  0.129103 -0.043109   \n",
       "\n",
       "                 ETH       LTC       XRP       XLM  \n",
       "Date                                                \n",
       "2018-05-20       NaN       NaN       NaN       NaN  \n",
       "2018-05-21  0.025921  0.032444  0.032224  0.028932  \n",
       "2018-05-22 -0.024132 -0.036734  0.043133  0.015076  \n",
       "2018-05-23 -0.080758 -0.045807 -0.014571 -0.035502  \n",
       "2018-05-24 -0.098829 -0.072282  0.023570  0.007376  \n",
       "...              ...       ...       ...       ...  \n",
       "2019-05-16  0.145143  0.115280 -0.079600  0.002051  \n",
       "2019-05-17  0.061807 -0.063661 -0.079851 -0.078094  \n",
       "2019-05-18 -0.074889 -0.061305 -0.034845  0.017944  \n",
       "2019-05-19 -0.043174 -0.035937  0.120632  0.098205  \n",
       "2019-05-20  0.115626  0.097057 -0.047156 -0.041983  \n",
       "\n",
       "[354 rows x 16 columns]"
      ]
     },
     "execution_count": 3,
     "metadata": {},
     "output_type": "execute_result"
    }
   ],
   "source": [
    "all_returns = pd.concat([harold_returns, my_returns], axis='columns', join='inner')\n",
    "all_returns"
   ]
  },
  {
   "cell_type": "markdown",
   "metadata": {},
   "source": [
    "### Calculate `std dev` for all data"
   ]
  },
  {
   "cell_type": "code",
   "execution_count": 4,
   "metadata": {},
   "outputs": [
    {
     "data": {
      "text/plain": [
       "BTC      0.035602\n",
       "BTT      0.054604\n",
       "DOGE     0.056955\n",
       "ETH      0.052809\n",
       "LTC      0.053550\n",
       "XRP      0.052954\n",
       "SOLVE    0.067866\n",
       "XLM      0.045011\n",
       "TRON     0.053485\n",
       "ZIL      0.043158\n",
       "BTC      0.035643\n",
       "DOGE     0.056955\n",
       "ETH      0.052809\n",
       "LTC      0.053550\n",
       "XRP      0.052954\n",
       "XLM      0.049547\n",
       "dtype: float64"
      ]
     },
     "execution_count": 4,
     "metadata": {},
     "output_type": "execute_result"
    }
   ],
   "source": [
    "all_portfolio_std = all_returns.std()\n",
    "all_portfolio_std"
   ]
  },
  {
   "cell_type": "markdown",
   "metadata": {},
   "source": [
    "### Calculate `sharpe ratio` for all data"
   ]
  },
  {
   "cell_type": "code",
   "execution_count": 5,
   "metadata": {},
   "outputs": [
    {
     "data": {
      "text/plain": [
       "BTC       0.220066\n",
       "BTT       9.586636\n",
       "DOGE      0.320915\n",
       "ETH      -0.413088\n",
       "LTC       0.118971\n",
       "XRP       0.016287\n",
       "SOLVE    20.342644\n",
       "XLM       2.372035\n",
       "TRON     -0.187177\n",
       "ZIL       0.528730\n",
       "BTC       0.275461\n",
       "DOGE      0.320915\n",
       "ETH      -0.413088\n",
       "LTC       0.118971\n",
       "XRP       0.016287\n",
       "XLM      -0.300508\n",
       "dtype: float64"
      ]
     },
     "execution_count": 5,
     "metadata": {},
     "output_type": "execute_result"
    }
   ],
   "source": [
    "sharpe_ratio = (all_returns.mean()*252) / (all_portfolio_std * np.sqrt(252))\n",
    "sharpe_ratio"
   ]
  },
  {
   "cell_type": "markdown",
   "metadata": {},
   "source": [
    "### Plot Sharpe Ratios"
   ]
  },
  {
   "cell_type": "code",
   "execution_count": 6,
   "metadata": {},
   "outputs": [
    {
     "data": {
      "text/plain": [
       "<matplotlib.axes._subplots.AxesSubplot at 0x1d1ad6e9dc8>"
      ]
     },
     "execution_count": 6,
     "metadata": {},
     "output_type": "execute_result"
    },
    {
     "data": {
      "image/png": "[encoded data removed]",
      "text/plain": [
       "<Figure size 432x288 with 1 Axes>"
      ]
     },
     "metadata": {
      "needs_background": "light"
     },
     "output_type": "display_data"
    }
   ],
   "source": [
    "sharpe_ratio.plot.bar(title='sharpe Ratios')"
   ]
  },
  {
   "cell_type": "markdown",
   "metadata": {},
   "source": [
    "### How many smart investments did Harold make compared to risky investments? How many did you make?"
   ]
  },
  {
   "cell_type": "code",
   "execution_count": null,
   "metadata": {},
   "outputs": [],
   "source": []
  },
  {
   "cell_type": "markdown",
   "metadata": {},
   "source": [
    "### Which cryptos have been the smartest investment?"
   ]
  },
  {
   "cell_type": "code",
   "execution_count": null,
   "metadata": {},
   "outputs": [],
   "source": []
  }
 ],
 "metadata": {
  "kernelspec": {
   "display_name": "Python 3",
   "language": "python",
   "name": "python3"
  },
  "language_info": {
   "codemirror_mode": {
    "name": "ipython",
    "version": 3
   },
   "file_extension": ".py",
   "mimetype": "text/x-python",
   "name": "python",
   "nbconvert_exporter": "python",
   "pygments_lexer": "ipython3",
   "version": "3.7.7"
  }
 },
 "nbformat": 4,
 "nbformat_minor": 4
}
