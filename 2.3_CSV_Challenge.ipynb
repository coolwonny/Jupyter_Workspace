{
 "cells": [
  {
   "cell_type": "code",
   "execution_count": 15,
   "metadata": {},
   "outputs": [
    {
     "name": "stdout",
     "output_type": "stream",
     "text": [
      "['Name', 'Count', 'Revenue']\n",
      "[['Name', 'Count', 'Revenue', 'Average']]\n"
     ]
    }
   ],
   "source": [
    "from pathlib import Path\n",
    "import csv\n",
    "\n",
    "filepath = Path(\"Resources/sales.csv\")\n",
    "records = []\n",
    "with open(filepath, 'r') as file:\n",
    "    csv_reader = csv.reader(file, delimiter=',')\n",
    "    header = next(csv_reader)\n",
    "    print(header)\n",
    "    header.append('Average')\n",
    "    records.append(header)\n",
    "    print(records)\n",
    "    \n",
    "    for row in csv_reader:\n",
    "        name = row[0]\n",
    "        count = int(row[1])\n",
    "        revenue = int(row[2])\n",
    "        average = round(revenue / count, 2)\n",
    "        row.append(average)\n",
    "        records.append(row)\n",
    "\n",
    "output_path = Path(\"Resources/salesouput.csv\")\n",
    "with open(output_path, 'w') as file:\n",
    "    csv_writer = csv.writer(file, delimiter=',')\n",
    "    for record in records:\n",
    "        csv_writer.writerow(record)"
   ]
  },
  {
   "cell_type": "code",
   "execution_count": 32,
   "metadata": {},
   "outputs": [
    {
     "name": "stdout",
     "output_type": "stream",
     "text": [
      "['Name', 'Count', 'Revenue']\n"
     ]
    }
   ],
   "source": [
    "# Challenge\n",
    "# Calculate the aggregate average for each unique customer name and output to a CSV file by completing the following steps:\n",
    "from pathlib import Path\n",
    "import csv\n",
    "\n",
    "filepath = Path(\"Resources/sales.csv\")\n",
    "\n",
    "# Initialize an analysis dictionary.\n",
    "analysis = {}\n",
    "\n",
    "# Read and iterate over the sales.csv file using csv.reader(). Use an if-else statement to check the following:\n",
    "with open(filepath, 'r') as csvfile:\n",
    "    csv_reader = csv.reader(csvfile, delimiter=\",\")\n",
    "    header = next(csv_reader)\n",
    "    print(header)\n",
    "    \n",
    "    for row in csv_reader:\n",
    "        name = row[0]\n",
    "        count = int(row[1])\n",
    "        revenue = int(row[2])\n",
    "        average = round(revenue / count, 2)\n",
    "     \n",
    "# If the customer name is not already in the analysis dictionary, initialize the nested key-value pairs count and revenue.\n",
    "# analysis[name] = {\n",
    "#     \"count\": count,\n",
    "#     \"revenue\": revenue\n",
    "# }\n",
    "        if name not in analysis.keys():\n",
    "            analysis[name] = {\"count\": count, \"revenue\": revenue}\n",
    "\n",
    "# Else the customer name is already in the analysis dictionary, cumulatively add the count and revenue nested key-value pairs.\n",
    "# analysis[name]['count'] += count\n",
    "#     analysis[name]['revenue'] += revenue\n",
    "\n",
    "        else:\n",
    "             analysis[name][\"count\"] += count\n",
    "             analysis[name][\"revenue\"] += revenue\n",
    "          \n",
    "final_header = [\"Name\", \"Count\", \"Revenue\", \"Average\"]\n",
    "\n",
    "# Set the output file path for aggregate.csv.\n",
    "aggregate_path = Path(\"Resources/aggregate.csv\")\n",
    "\n",
    "# Write the contents of the analysis dictionary to output.csv using csv.writer(). Be sure to add a header to the CSV file.\n",
    "with open(aggregate_path, 'w') as file:\n",
    "    csvwriter = csv.writer(file, delimiter=',')\n",
    "    csvwriter.writerow(final_header)\n",
    "    for name in analysis:\n",
    "        csvwriter.writerow([name, analysis[name][\"count\"], analysis[name][\"revenue\"], round(analysis[name][\"revenue\"] / analysis[name][\"count\"], 2)])\n",
    "# Your output should look similar to the following:"
   ]
  },
  {
   "cell_type": "code",
   "execution_count": null,
   "metadata": {},
   "outputs": [],
   "source": []
  }
 ],
 "metadata": {
  "kernelspec": {
   "display_name": "Python 3",
   "language": "python",
   "name": "python3"
  },
  "language_info": {
   "codemirror_mode": {
    "name": "ipython",
    "version": 3
   },
   "file_extension": ".py",
   "mimetype": "text/x-python",
   "name": "python",
   "nbconvert_exporter": "python",
   "pygments_lexer": "ipython3",
   "version": "3.7.7"
  }
 },
 "nbformat": 4,
 "nbformat_minor": 4
}
