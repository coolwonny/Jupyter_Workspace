{
 "cells": [
  {
   "cell_type": "code",
   "execution_count": 15,
   "metadata": {},
   "outputs": [
    {
     "name": "stdout",
     "output_type": "stream",
     "text": [
      "Apple's original stock price was $198.87\n",
      "Apples current stock price is $254.32\n",
      "Apple's stock increase was $55.44999999999999\n",
      "Apple's stock percent increase was 27.882536330265996%\n"
     ]
    }
   ],
   "source": [
    "original_price = 198.87\n",
    "current_price = 254.32\n",
    "increase = current_price - original_price\n",
    "percent_increase = increase / original_price * 100\n",
    "\n",
    "\n",
    "\n",
    "print(f\"Apple's original stock price was ${original_price}\")\n",
    "\n",
    "print(f\"Apples current stock price is ${current_price}\")\n",
    "\n",
    "print(f\"Apple's stock increase was ${increase}\")\n",
    "\n",
    "print(f\"Apple's stock percent increase was {percent_increase}%\")\n"
   ]
  },
  {
   "cell_type": "code",
   "execution_count": 16,
   "metadata": {},
   "outputs": [
    {
     "name": "stdout",
     "output_type": "stream",
     "text": [
      "B\n"
     ]
    }
   ],
   "source": [
    "is_raining = False\n",
    "if is_raining:\n",
    "    print(\"A\")\n",
    "else:\n",
    "    print(\"B\")"
   ]
  },
  {
   "cell_type": "code",
   "execution_count": 18,
   "metadata": {},
   "outputs": [],
   "source": [
    "x = 5\n",
    "if x == 1:\n",
    " print(\"dd\")"
   ]
  },
  {
   "cell_type": "code",
   "execution_count": 19,
   "metadata": {},
   "outputs": [
    {
     "data": {
      "text/plain": [
       "True"
      ]
     },
     "execution_count": 19,
     "metadata": {},
     "output_type": "execute_result"
    }
   ],
   "source": [
    "5 == 5"
   ]
  },
  {
   "cell_type": "code",
   "execution_count": 20,
   "metadata": {},
   "outputs": [],
   "source": [
    "x = 5\n",
    "y = 10\n",
    "if x == y:\n",
    "    print(\"xx\")"
   ]
  },
  {
   "cell_type": "code",
   "execution_count": 21,
   "metadata": {},
   "outputs": [
    {
     "name": "stdout",
     "output_type": "stream",
     "text": [
      "Oooo needs some work\n",
      "Question 2 works!\n",
      "You are of drinking age!\n",
      "GOT QUESTION 4!\n",
      "Can ride bumper cars\n"
     ]
    }
   ],
   "source": [
    "# 1.\n",
    "x = 5\n",
    "y = 10\n",
    "if 2 * x > 10:\n",
    "    print(\"Question 1 works!\")\n",
    "else:\n",
    "    print(\"Oooo needs some work\")\n",
    "\n",
    "# 2.\n",
    "x = 5\n",
    "y = 10\n",
    "if len(\"Dog\") < x:\n",
    "    print(\"Question 2 works!\")\n",
    "else:\n",
    "    print(\"Still missing out\")\n",
    "\n",
    "# 3.\n",
    "age = 21\n",
    "if age > 20:\n",
    "    print(\"You are of drinking age!\")\n",
    "else:\n",
    "    print(\"Argggggh! You think you can hoodwink me, matey?! You're too young to drink!\")\n",
    "\n",
    "# 4.\n",
    "x = 2\n",
    "y = 5\n",
    "if (x ** 3 >= y) and (y ** 2 < 26):\n",
    "    print(\"GOT QUESTION 4!\")\n",
    "else:\n",
    "    print(\"Oh good you can count\")\n",
    "\n",
    "# 5.\n",
    "height = 66\n",
    "age = 16\n",
    "adult_permission = True\n",
    "\n",
    "if (height > 70) and (age >= 18):\n",
    "    print(\"Can ride all the roller coasters\")\n",
    "elif (height > 65) and (age >= 18):\n",
    "    print(\"Can ride moderate roller coasters\")\n",
    "elif (height > 60) and (age >= 18):\n",
    "    print(\"Can ride light roller coasters\")\n",
    "elif ((height > 50) and (age >= 18)) or ((adult_permission) and (height > 50)):\n",
    "    print(\"Can ride bumper cars\")\n",
    "else:\n",
    "    print(\"Stick to lazy river\")\n"
   ]
  },
  {
   "cell_type": "code",
   "execution_count": 22,
   "metadata": {},
   "outputs": [
    {
     "name": "stdout",
     "output_type": "stream",
     "text": [
      "0\n",
      "1\n",
      "2\n",
      "3\n",
      "4\n"
     ]
    }
   ],
   "source": [
    "for x in range(5):\n",
    "    print(x)"
   ]
  },
  {
   "cell_type": "code",
   "execution_count": 23,
   "metadata": {},
   "outputs": [
    {
     "name": "stdout",
     "output_type": "stream",
     "text": [
      "H\n",
      "e\n",
      "l\n",
      "l\n",
      "o\n",
      " \n",
      "W\n",
      "o\n",
      "r\n",
      "l\n",
      "d\n"
     ]
    }
   ],
   "source": [
    "phrase = \"Hello World\"\n",
    "for x in phrase:\n",
    "    print(x)"
   ]
  },
  {
   "cell_type": "code",
   "execution_count": 27,
   "metadata": {},
   "outputs": [
    {
     "name": "stdout",
     "output_type": "stream",
     "text": [
      "0\n",
      "1\n",
      "2\n",
      "3\n",
      "4\n"
     ]
    }
   ],
   "source": [
    "desired_number = 5\n",
    "for x in range(10):\n",
    "    if (x == desired_number):\n",
    "        break\n",
    "    print(x)\n",
    "    "
   ]
  },
  {
   "cell_type": "code",
   "execution_count": 30,
   "metadata": {},
   "outputs": [
    {
     "name": "stdout",
     "output_type": "stream",
     "text": [
      "1\n",
      "2\n",
      "3\n",
      "4\n",
      "5\n"
     ]
    }
   ],
   "source": [
    "i = 1\n",
    "\n",
    "while i < 6:\n",
    "    print(i)\n",
    "    \n",
    "    i+=1\n",
    "    "
   ]
  },
  {
   "cell_type": "code",
   "execution_count": 42,
   "metadata": {},
   "outputs": [
    {
     "name": "stdout",
     "output_type": "stream",
     "text": [
      "Give me a p\n",
      "Give me a y\n",
      "Give me a t\n",
      "Give me a h\n",
      "Give me a o\n",
      "Give me a n\n"
     ]
    }
   ],
   "source": [
    "cheer = \"python\"\n",
    "\n",
    "for x in cheer:\n",
    "    print(f\"Give me a {x}\")\n",
    "    \n",
    "\n"
   ]
  },
  {
   "cell_type": "code",
   "execution_count": 17,
   "metadata": {},
   "outputs": [
    {
     "name": "stdout",
     "output_type": "stream",
     "text": [
      "['Water', 'Butter']\n",
      "['Eggs', 'Apples', 'Cinnamon', 'Sugar', 'Milk']\n",
      "['Butter', 'Apples', 'Sugar']\n",
      "['Water', 'Butter', 'Eggs', 'Apples', 'Cinnamon', 'Sugar', 'Milk', 'Juice']\n",
      "['soda', 'Butter', 'Eggs', 'Apples', 'Cinnamon', 'Sugar', 'Milk', 'Juice']\n",
      "8\n"
     ]
    }
   ],
   "source": [
    "# -*- coding: utf-8 -*-\n",
    "\"\"\"\n",
    "Student Do: Grocery List.\n",
    "\n",
    "This script showcases basic operations of Python Lists to help Sally\n",
    "organize her grocery shopping list.\n",
    "\"\"\"\n",
    "\n",
    "# @TODO: Create a list of groceries\n",
    "grocery = [\"Water\", \"Butter\", \"Eggs\", \"Apples\", \"Cinnamon\", \"Sugar\", \"Milk\"]\n",
    "# @TODO: Find the first two items on the list\n",
    "print(grocery[0:2])\n",
    "\n",
    "# @TODO: Find the last five items on the list\n",
    "print(grocery[2:])\n",
    "\n",
    "# @TODO: Find every other item on the list, starting from the second item\n",
    "\n",
    "print(grocery[1::2])\n",
    "\n",
    "# @TODO: Add an element to the end of the list\n",
    "grocery.append(\"Juice\")\n",
    "print(grocery)\n",
    "\n",
    "# @TODO: Changes a specified element within the list at the given index\n",
    "grocery[0] = \"soda\"\n",
    "print(grocery)\n",
    "\n",
    "# @TODO: Calculate how many items you have in the list\n",
    "\n",
    "print(len(grocery))\n"
   ]
  },
  {
   "cell_type": "code",
   "execution_count": 18,
   "metadata": {},
   "outputs": [
    {
     "name": "stdout",
     "output_type": "stream",
     "text": [
      "-224\n",
      "352\n",
      "252\n",
      "354\n",
      "-544\n",
      "-650\n",
      "56\n",
      "123\n",
      "-43\n",
      "254\n",
      "325\n",
      "-123\n",
      "47\n",
      "321\n",
      "123\n",
      "133\n",
      "-151\n",
      "613\n",
      "232\n",
      "-311\n"
     ]
    }
   ],
   "source": [
    "# -*- coding: utf-8 -*-\n",
    "\"\"\"\n",
    "Student Do: Trading Log.\n",
    "\n",
    "This script demonstrates how to perform basic analysis of trading profits/losses\n",
    "over the course of a month (20 business days).\n",
    "\"\"\"\n",
    "\n",
    "# @TODO: Initialize the metric variables\n",
    "\n",
    "count = 0\n",
    "total = 0\n",
    "average = 0\n",
    "minimum = 0\n",
    "maximum = 0\n",
    "\n",
    "\n",
    "# @TODO: Initialize lists to hold profitable and unprofitable day profits/losses\n",
    "\n",
    "profitable_days = []\n",
    "unprofitable_days = []\n",
    "\n",
    "\n",
    "# List of trading profits/losses\n",
    "trading_pnl = [ -224,  352, 252, 354, -544,\n",
    "                -650,   56, 123, -43,  254,\n",
    "                 325, -123,  47, 321,  123,\n",
    "                 133, -151, 613, 232, -311 ]\n",
    "\n",
    "# @TODO: Iterate over each element of the list\n",
    "\n",
    "for change in trading_pnl:\n",
    "    print(change)\n",
    "\n",
    "    # @TODO: Cumulatively sum up the total and count\n",
    "total += change\n",
    "count += 1\n",
    "\n",
    "    # @TODO: Write logic to determine minimum and maximum values\n",
    "\n",
    "\n",
    " if minimum == 0:\n",
    "        minimum = change\n",
    "    elif tip < minimum:\n",
    "        minimum = change\n",
    "    elif tip > maximum:\n",
    "        maximum = change\n",
    "\n",
    "\n",
    "\n",
    "\n",
    "    # @TODO: Write logic to determine profitable vs. unprofitable days\n",
    "\n",
    "if change > 0:\n",
    "    profitable_days.append(change)\n",
    "elif change <= 0:\n",
    "    unprofitable_days.append\n",
    "\n",
    "\n",
    "# @TODO: Calculate the average\n",
    "\n",
    "\n",
    "# @TODO: Calculate count metrics\n",
    "\n",
    "\n",
    "# @TODO: Calculate percentage metrics\n",
    "\n",
    "\n",
    "\n",
    "# @TODO: Print out the summary statistics\n"
   ]
  },
  {
   "cell_type": "code",
   "execution_count": 27,
   "metadata": {},
   "outputs": [
    {
     "name": "stdout",
     "output_type": "stream",
     "text": [
      "{'JP Morgan Chase': '327', 'Bank of America': '302', 'Citigroup': 500, 'Wells Fargo': '273', 'Goldman Sachs': '87', 'Morgan Stanley': '72', 'U.S. Bancorp': '83', 'TD Bank': '108', 'PNC Financial Services': '67', 'Capital One': '47', 'FNB Corporation': '4', 'First Hawaiian Bank': '3', 'Ally Financial': '12', 'Wachovia': '145', 'Republic Bancorp': '97', 'USAA': 333}\n"
     ]
    }
   ],
   "source": [
    "# -*- coding: utf-8 -*-\n",
    "\"\"\"\n",
    "Student Activity: Market Capitalization.\n",
    "\n",
    "This script showcases the use of Python Dicts to determine the\n",
    "bank names associated with the corresponding market cap ranges.\n",
    "\"\"\"\n",
    "\n",
    "# Banks and Market Caps\n",
    "#-----------------------\n",
    "# JP Morgan Chase: 327\n",
    "# Bank of America: 302\n",
    "# Citigroup: 173\n",
    "# Wells Fargo: 273\n",
    "# Goldman Sachs: 87\n",
    "# Morgan Stanley: 72\n",
    "# U.S. Bancorp: 83\n",
    "# TD Bank: 108\n",
    "# PNC Financial Services: 67\n",
    "# Capital One: 47\n",
    "# FNB Corporation: 4\n",
    "# First Hawaiian Bank: 3\n",
    "# Ally Financial: 12\n",
    "# Wachovia: 145\n",
    "# Republic Bancorp: .97\n",
    "\n",
    "# @TODO: Initialize a dictionary of banks and market caps (in billions)\n",
    "\n",
    "banks = {\"JP Morgan Chase\": \"327\", \"Bank of America\": \"302\", \"Citigroup\": \"173\", \n",
    "         \"Wells Fargo\": \"273\",\n",
    "\"Goldman Sachs\": \"87\", \"Morgan Stanley\": \"72\",\n",
    "\"U.S. Bancorp\": \"83\",\n",
    "\"TD Bank\": \"108\",\n",
    "\"PNC Financial Services\": \"67\",\n",
    "\"Capital One\": \"47\",\n",
    "\"FNB Corporation\": \"4\",\n",
    "\"First Hawaiian Bank\": \"3\",\n",
    "\"Ally Financial\": \"12\", \"Wachovia\":\"145\", \"Republic Bancorp\":\"97\"}\n",
    "\n",
    "\n",
    "\n",
    "# @TODO: Change the market cap for 'Citigroup'\n",
    "banks[\"Citigroup\"] = 500\n",
    "\n",
    "\n",
    "# # @TODO: Add a new bank and market cap pair\n",
    "banks[\"USAA\"] = 333\n",
    "print(banks)\n",
    "# # @TODO: Remove a bank from the dictionary\n",
    "# del bank[\"Citigroup\"]\n",
    "\n",
    "# # @TODO: Print the modified dictionary\n",
    "# print("
   ]
  },
  {
   "cell_type": "code",
   "execution_count": 36,
   "metadata": {},
   "outputs": [
    {
     "ename": "KeyError",
     "evalue": "0",
     "output_type": "error",
     "traceback": [
      "\u001b[1;31m---------------------------------------------------------------------------\u001b[0m",
      "\u001b[1;31mKeyError\u001b[0m                                  Traceback (most recent call last)",
      "\u001b[1;32m<ipython-input-36-9e8015d4b2e1>\u001b[0m in \u001b[0;36m<module>\u001b[1;34m\u001b[0m\n\u001b[0;32m     75\u001b[0m \u001b[1;33m\u001b[0m\u001b[0m\n\u001b[0;32m     76\u001b[0m \u001b[1;31m# @TODO: Set each ticker's new record: date, open, high, low, close\u001b[0m\u001b[1;33m\u001b[0m\u001b[1;33m\u001b[0m\u001b[1;33m\u001b[0m\u001b[0m\n\u001b[1;32m---> 77\u001b[1;33m \u001b[0mnew_entry\u001b[0m \u001b[1;33m=\u001b[0m \u001b[0mnew_records\u001b[0m\u001b[1;33m[\u001b[0m\u001b[1;36m0\u001b[0m\u001b[1;33m]\u001b[0m\u001b[1;33m\u001b[0m\u001b[1;33m\u001b[0m\u001b[0m\n\u001b[0m\u001b[0;32m     78\u001b[0m \u001b[0mprint\u001b[0m\u001b[1;33m(\u001b[0m\u001b[0mnew_entry\u001b[0m\u001b[1;33m)\u001b[0m\u001b[1;33m\u001b[0m\u001b[1;33m\u001b[0m\u001b[0m\n\u001b[0;32m     79\u001b[0m \u001b[1;33m\u001b[0m\u001b[0m\n",
      "\u001b[1;31mKeyError\u001b[0m: 0"
     ]
    }
   ],
   "source": [
    "# -*- coding: utf-8 -*-\n",
    "\"\"\"\n",
    "Student Activity: Weekly Gains.\n",
    "\n",
    "This script showcases how to use nested list/dict objects to\n",
    "calculate weekly gains of stock tickers.\n",
    "\"\"\"\n",
    "\n",
    "# Dictionary of List of Lists\n",
    "# Key: Stock Ticker | Value: List of Records\n",
    "# Record: Date, Open, High, Low, Close\n",
    "historical_stock_data = {\n",
    "    \"AAPL\": [\n",
    "        [\"04-17-2019\", 199.54, 203.38, 198.61, 203.13],\n",
    "        [\"04-18-2019\", 199.46, 201.37, 198.56, 199.25],\n",
    "        [\"04-19-2019\", 198.58, 199.85, 198.01, 199.23],\n",
    "        [\"04-20-2019\", 199.20, 200.14, 196.21, 198.87],\n",
    "\n",
    "    ],\n",
    "    \"MU\": [\n",
    "        [\"04-17-2019\", 43.20, 43.53, 42.79, 43.40],\n",
    "        [\"04-18-2019\", 43.36, 44.05, 42.76, 43.15],\n",
    "        [\"04-19-2019\", 42.26, 42.93, 42.08, 42.76],\n",
    "        [\"04-20-2019\", 42.17, 42.23, 41.20, 41.82],\n",
    "\n",
    "    ],\n",
    "    \"AMD\": [\n",
    "        [\"04-17-2019\", 27.60, 27.88, 27.34, 27.68],\n",
    "        [\"04-18-2019\", 28.21, 28.27, 27.22, 27.49],\n",
    "        [\"04-19-2019\", 27.72, 28.18, 27.49, 27.93],\n",
    "        [\"04-20-2019\", 27.80, 27.84, 26.96, 27.33],\n",
    "\n",
    "    ],\n",
    "    \"TWTR\": [\n",
    "        [\"04-17-2019\", 34.67, 34.86, 34.32, 34.40],\n",
    "        [\"04-18-2019\", 34.73, 34.90, 34.20, 34.48],\n",
    "        [\"04-19-2019\", 34.84, 34.99, 34.23, 34.46],\n",
    "        [\"04-20-2019\", 34.38, 35.03, 34.34, 34.71],\n",
    "\n",
    "    ]\n",
    "}\n",
    "\n",
    "# Dictionary of Dictionary\n",
    "# Key: Stock Ticker | Value: Dictionary\n",
    "new_records = {\n",
    "    \"AAPL\": {\n",
    "        \"date\": \"04-21-2019\",\n",
    "        \"open\": 200.85,\n",
    "        \"high\": 201.00,\n",
    "        \"low\": 198.44,\n",
    "        \"close\": 198.95\n",
    "    },\n",
    "    \"MU\": {\n",
    "        \"date\": \"04-21-2019\",\n",
    "        \"open\": 42.85,\n",
    "        \"high\": 43.20,\n",
    "        \"low\": 41.81,\n",
    "        \"close\": 42.01\n",
    "    },\n",
    "    \"AMD\": {\n",
    "        \"date\": \"04-21-2019\",\n",
    "        \"open\": 28.21,\n",
    "        \"high\": 28.38,\n",
    "        \"low\": 27.66,\n",
    "        \"close\": 27.85\n",
    "    },\n",
    "    \"TWTR\": {\n",
    "        \"date\": \"04-21-2019\",\n",
    "        \"open\": 34.67,\n",
    "        \"high\": 34.83,\n",
    "        \"low\": 34.11,\n",
    "        \"close\": 34.37\n",
    "    }\n",
    "}\n",
    "\n",
    "# @TODO: Set each ticker's new record: date, open, high, low, close\n",
    "new_date = new_records[\"APPL\"][0] \n",
    "new_open = new_records[\"APPL\"][1]\n",
    "new_high = new_records[\"APPL\"][2] \n",
    "new_low = new_records[\"APPL\"][3] \n",
    "new_close = new_records[\"APPL\"][4] \n",
    "\n",
    "print(new_entry)\n",
    "\n",
    "\n",
    "\n",
    "\n",
    "# @TODO: Choice 1: Add a new round of entries to the 'historical_stock_data' dictionary\n",
    "\n",
    "\n",
    "\n",
    "\n",
    "\n",
    "\n",
    "# @TODO: Choice 2: Add a new round of entries via for loop to the 'historical_stock_data' dictionary\n",
    "\n",
    "\n",
    "\n",
    "\n",
    "\n",
    "\n",
    "# @TODO: Print out the modified 'historical_stock_data' dictionary\n"
   ]
  },
  {
   "cell_type": "code",
   "execution_count": 32,
   "metadata": {},
   "outputs": [
    {
     "name": "stdout",
     "output_type": "stream",
     "text": [
      "APPL ticker stands for Apple. APPL stock price is currently 101.32, and it is available on NASDAQ.\n"
     ]
    }
   ],
   "source": [
    "# -*- coding: utf-8 -*-\n",
    "\"\"\"\n",
    "Instructor Demo: Nesting.\n",
    "\n",
    "This script showcases how to traverse dictionary of lists.\n",
    "\"\"\"\n",
    "\n",
    "# Dict\n",
    "stocks_dict = {\n",
    "    \"APPL\": 101.32,\n",
    "    \"MU\": 43.4,\n",
    "    \"AMD\": 23.12,\n",
    "    \"TWTR\": 25\n",
    "}\n",
    "\n",
    "# Dictionary of Lists\n",
    "stocks_nested_list = {\n",
    "    \"APPL\": [\"Apple\", 101.32, \"NASDAQ\", 937.7],\n",
    "    \"MU\": [\"Micron Technology\", 32.12, \"NASDAQ\", 48.03],\n",
    "    \"AMD\": [\"Advanced Micro Devices\", 23.12, \"NASDAQ\", 29.94],\n",
    "    \"TWTR\": [\"Twitter\", 34.40, \"NASDAQ\", 26.42]\n",
    "}\n",
    "\n",
    "# Retrieve entry for APPL\n",
    "appl_entry = stocks_nested_list[\"APPL\"]\n",
    "\n",
    "# Retrieve name, stock_price, and exchange for APPL entry\n",
    "appl_name = stocks_nested_list[\"APPL\"][0]\n",
    "appl_stock_price = stocks_nested_list[\"APPL\"][1]\n",
    "appl_exchange = stocks_nested_list[\"APPL\"][2]\n",
    "\n",
    "# Print results to screen\n",
    "print(f\"APPL ticker stands for {appl_name}. APPL stock price is currently {appl_stock_price}, and it is available on {appl_exchange}.\")\n"
   ]
  },
  {
   "cell_type": "code",
   "execution_count": 46,
   "metadata": {},
   "outputs": [
    {
     "data": {
      "text/plain": [
       "0.5517275862068964"
      ]
     },
     "execution_count": 46,
     "metadata": {},
     "output_type": "execute_result"
    }
   ],
   "source": [
    "\"\"\"\n",
    "Determine the Compound Annual Growth Rate for an investment\n",
    "\"\"\"\n",
    "\n",
    "# Declare a variable beginning_balance as a float\n",
    "beginning_balance = 29000.00\n",
    "\n",
    "# Declare a variable ending_balance as float\n",
    "ending_balance = 45000.10\n",
    "\n",
    "# Declare a variable years as an float\n",
    "years = 1.0\n",
    "\n",
    "# Define a function called calculate_compound_growth_rate with three arguments: beginning_balance, ending_balance, years. Function should output growth_rate.\n",
    "def calculate_compound_growth_rate(beginning_balance, ending_balance, years):\n",
    "    growth_rate = (ending_balance / beginning_balance)**(1/years) - 1\n",
    "    return growth_rate\n",
    "calculate_compound_growth_rate(beginning_balance, ending_balance, years)\n"
   ]
  },
  {
   "cell_type": "code",
   "execution_count": 59,
   "metadata": {},
   "outputs": [
    {
     "name": "stdout",
     "output_type": "stream",
     "text": [
      "55.17\n"
     ]
    }
   ],
   "source": [
    "# Call calculate_compound_growth_rate_list and populate growth_rates with 2016 values (beginning_balance and ending_balance)\n",
    "beginning_balance = 29000.00\n",
    "ending_balance = 45000.10\n",
    "\n",
    "year_one_growth = round(calculate_compound_growth_rate(beginning_balance, ending_balance, years) * 100, 2)\n",
    "\n",
    "print(year_one_growth)"
   ]
  },
  {
   "cell_type": "code",
   "execution_count": 62,
   "metadata": {},
   "outputs": [
    {
     "name": "stdout",
     "output_type": "stream",
     "text": [
      "2.2\n"
     ]
    }
   ],
   "source": [
    "# Call calculate_compound_growth_rate_list and populate growth_rates with 2017 values (beginning_balance and ending_balance)\n",
    "beginning_balance = 45000.00\n",
    "ending_balance = 47000.00\n",
    "year_two_growth = round(calculate_compound_growth_rate(beginning_balance, ending_balance, years) * 100, 2)\n",
    "print(year_two_growth)"
   ]
  },
  {
   "cell_type": "code",
   "execution_count": 63,
   "metadata": {},
   "outputs": [
    {
     "name": "stdout",
     "output_type": "stream",
     "text": [
      "2.03\n"
     ]
    }
   ],
   "source": [
    "# Call calculate_compound_growth_rate_list and populate growth_rates with 2018 values (beginning_balance and ending_balance)\n",
    "beginning_balance = 47000.00\n",
    "ending_balance = 48930.00\n",
    "year_three_growth = round(calculate_compound_growth_rate(beginning_balance, ending_balance, years) * 100, 2)\n",
    "print(year_three_growth)\n",
    "\n"
   ]
  },
  {
   "cell_type": "code",
   "execution_count": 44,
   "metadata": {},
   "outputs": [
    {
     "ename": "NameError",
     "evalue": "name 'growth_rates' is not defined",
     "output_type": "error",
     "traceback": [
      "\u001b[1;31m---------------------------------------------------------------------------\u001b[0m",
      "\u001b[1;31mNameError\u001b[0m                                 Traceback (most recent call last)",
      "\u001b[1;32m<ipython-input-44-84f5b34b19ed>\u001b[0m in \u001b[0;36m<module>\u001b[1;34m\u001b[0m\n\u001b[0;32m      1\u001b[0m \u001b[1;31m# Print growth_rates list\u001b[0m\u001b[1;33m\u001b[0m\u001b[1;33m\u001b[0m\u001b[1;33m\u001b[0m\u001b[0m\n\u001b[1;32m----> 2\u001b[1;33m \u001b[0mprint\u001b[0m\u001b[1;33m(\u001b[0m\u001b[1;34m\"Growth rates: \"\u001b[0m\u001b[1;33m,\u001b[0m \u001b[0mgrowth_rates\u001b[0m\u001b[1;33m)\u001b[0m\u001b[1;33m\u001b[0m\u001b[1;33m\u001b[0m\u001b[0m\n\u001b[0m",
      "\u001b[1;31mNameError\u001b[0m: name 'growth_rates' is not defined"
     ]
    }
   ],
   "source": [
    "# Print growth_rates list\n",
    "print(\"Growth rates: \", growth_rates)\n"
   ]
  },
  {
   "cell_type": "code",
   "execution_count": null,
   "metadata": {},
   "outputs": [],
   "source": [
    "# Call calculate_compound_growth_rate using beginning_balance, ending_balance, and years. Capture as year_one_growth.\n",
    "\n",
    "\n",
    "# Update beginning_balance and ending balance for year two, and then execute calculate_compound_growth_rate\n",
    "\n",
    "\n",
    "# Call calculate_compound_growth_rate using beginning_balance, ending_balance, and years. Capture as year_two_growth.\n",
    "\n",
    "\n",
    "# Update beginning_balance and ending balance for year three, and then execute calculate_compound_growth_rate\n",
    "\n",
    "\n",
    "# Call calculate_compound_growth_rate using beginning_balance, ending_balance, and years. Capture as year_three_growth.\n",
    "\n",
    "# Use Python round() function to round year_one_growth, year_two_growth, and year_three_growth. Capture these as new variables.\n",
    "\n",
    "# Print year_one_growth, year_two_growth, year_three_growth as percents using string formatting\n",
    "\n",
    "\n",
    "# Challenge\n",
    "\n",
    "# Create a global, empty list\n",
    "\n",
    "\n",
    "# Define a function called\n",
    "\n",
    "\n",
    "    # Populate growth_rates list using add() function\n",
    "\n",
    "\n",
    "# Call calculate_compound_growth_rate_list and populate growth_rates with 2016 values (beginning_balance and ending_balance)\n",
    "beginning_balance = 29000.00\n",
    "ending_balance = 45000.10\n",
    "\n",
    "\n",
    "# Call calculate_compound_growth_rate_list and populate growth_rates with 2017 values (beginning_balance and ending_balance)\n",
    "beginning_balance = 45000.00\n",
    "ending_balance = 47000.00\n",
    "\n",
    "\n",
    "# Call calculate_compound_growth_rate_list and populate growth_rates with 2018 values (beginning_balance and ending_balance)\n",
    "beginning_balance = 47000.00\n",
    "ending_balance = 48930.00\n",
    "\n",
    "\n",
    "# Print growth_rates list\n",
    "print(\"Growth rates: \", growth_rates)"
   ]
  }
 ],
 "metadata": {
  "kernelspec": {
   "display_name": "Python 3",
   "language": "python",
   "name": "python3"
  },
  "language_info": {
   "codemirror_mode": {
    "name": "ipython",
    "version": 3
   },
   "file_extension": ".py",
   "mimetype": "text/x-python",
   "name": "python",
   "nbconvert_exporter": "python",
   "pygments_lexer": "ipython3",
   "version": "3.7.7"
  }
 },
 "nbformat": 4,
 "nbformat_minor": 4
}
