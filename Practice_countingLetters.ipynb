{
 "cells": [
  {
   "cell_type": "code",
   "execution_count": 8,
   "metadata": {},
   "outputs": [
    {
     "data": {
      "text/plain": [
       "{'E': 1,\n",
       " 'x': 1,\n",
       " 'a': 1,\n",
       " 'm': 1,\n",
       " 'p': 1,\n",
       " 'l': 1,\n",
       " 'e': 4,\n",
       " 's': 1,\n",
       " 'n': 2,\n",
       " 't': 1,\n",
       " 'c': 1}"
      ]
     },
     "execution_count": 8,
     "metadata": {},
     "output_type": "execute_result"
    }
   ],
   "source": [
    "def count_letters(arg):\n",
    "    dict = {}\n",
    "    for i in arg:\n",
    "        if i == ' ':\n",
    "            continue\n",
    "        elif i not in dict.keys():\n",
    "            dict[i] = 1\n",
    "        else:\n",
    "            dict[i] += 1\n",
    "    return dict\n",
    "test = \"Example sentence\"\n",
    "count_letters(test)"
   ]
  },
  {
   "cell_type": "code",
   "execution_count": null,
   "metadata": {},
   "outputs": [],
   "source": []
  }
 ],
 "metadata": {
  "kernelspec": {
   "display_name": "Python 3",
   "language": "python",
   "name": "python3"
  },
  "language_info": {
   "codemirror_mode": {
    "name": "ipython",
    "version": 3
   },
   "file_extension": ".py",
   "mimetype": "text/x-python",
   "name": "python",
   "nbconvert_exporter": "python",
   "pygments_lexer": "ipython3",
   "version": "3.7.7"
  }
 },
 "nbformat": 4,
 "nbformat_minor": 4
}
