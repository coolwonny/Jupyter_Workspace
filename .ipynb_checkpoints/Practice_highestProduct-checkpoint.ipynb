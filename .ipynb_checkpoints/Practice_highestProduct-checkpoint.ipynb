{
 "cells": [
  {
   "cell_type": "code",
   "execution_count": 9,
   "metadata": {},
   "outputs": [
    {
     "data": {
      "text/plain": [
       "4200"
      ]
     },
     "execution_count": 9,
     "metadata": {},
     "output_type": "execute_result"
    }
   ],
   "source": [
    "def highest_product_of_two(list):\n",
    "    if len(list) < 2:\n",
    "        print('We need at least two numbers!')\n",
    "    else:\n",
    "        for i in list:\n",
    "            for j in list:\n",
    "             \n",
    "                if i != j:\n",
    "                    max_profit = 0\n",
    "                    profit = i * j \n",
    "                    if max_profit > profit:\n",
    "                        max_profit = 0\n",
    "                    elif max_profit <= profit:\n",
    "                        max_profit = profit\n",
    "    return max_profit\n",
    "\n",
    "list = [-100, 2, 42, 100]\n",
    "highest_product_of_two(list)\n",
    "            "
   ]
  },
  {
   "cell_type": "code",
   "execution_count": null,
   "metadata": {},
   "outputs": [],
   "source": []
  }
 ],
 "metadata": {
  "kernelspec": {
   "display_name": "Python 3",
   "language": "python",
   "name": "python3"
  },
  "language_info": {
   "codemirror_mode": {
    "name": "ipython",
    "version": 3
   },
   "file_extension": ".py",
   "mimetype": "text/x-python",
   "name": "python",
   "nbconvert_exporter": "python",
   "pygments_lexer": "ipython3",
   "version": "3.7.7"
  }
 },
 "nbformat": 4,
 "nbformat_minor": 4
}
