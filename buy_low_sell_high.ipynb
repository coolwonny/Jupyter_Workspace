{
 "cells": [
  {
   "cell_type": "code",
   "execution_count": 16,
   "metadata": {},
   "outputs": [
    {
     "name": "stdout",
     "output_type": "stream",
     "text": [
      "max price is 1.9 and min price is 1.1\n",
      "maximum profit is $8000.0 for # of shares: 10000.\n"
     ]
    }
   ],
   "source": [
    "def maximum_profit(prices, shares):\n",
    "    if len(prices) < 2:\n",
    "        print('There shall be at least two prices for calculating maximum profit')\n",
    "    else:\n",
    "         min_price = 0\n",
    "         max_price = 0\n",
    "         for i in prices:\n",
    "                if  min_price ==0 and max_price==0:\n",
    "                    min_price = i\n",
    "                    max_price = i\n",
    "                elif i < min_price:\n",
    "                    min_price = i\n",
    "                elif i > max_price:\n",
    "                    max_price = i\n",
    "    profit = (max_price - min_price) * shares\n",
    "    print(f'max price is {max_price} and min price is {min_price}')\n",
    "    return profit\n",
    "\n",
    "prices = [1.42, 1.32, 1.45, 1.20, 1.34, 1.74, 1.10, 1.89, 1.42, 1.90, 1.80, 1.85]\n",
    "shares = 10000\n",
    "maxprofit = round(maximum_profit(prices, shares), 2)\n",
    "print(f'maximum profit is ${maxprofit} for # of shares: {shares}.')"
   ]
  },
  {
   "cell_type": "code",
   "execution_count": null,
   "metadata": {},
   "outputs": [],
   "source": []
  }
 ],
 "metadata": {
  "kernelspec": {
   "display_name": "Python 3",
   "language": "python",
   "name": "python3"
  },
  "language_info": {
   "codemirror_mode": {
    "name": "ipython",
    "version": 3
   },
   "file_extension": ".py",
   "mimetype": "text/x-python",
   "name": "python",
   "nbconvert_exporter": "python",
   "pygments_lexer": "ipython3",
   "version": "3.7.7"
  }
 },
 "nbformat": 4,
 "nbformat_minor": 4
}
