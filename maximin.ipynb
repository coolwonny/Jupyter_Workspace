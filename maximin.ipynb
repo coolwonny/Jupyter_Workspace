{
 "cells": [
  {
   "cell_type": "code",
   "execution_count": 4,
   "metadata": {},
   "outputs": [
    {
     "name": "stdout",
     "output_type": "stream",
     "text": [
      "maximum value is 75 and minimum value is 2\n"
     ]
    }
   ],
   "source": [
    "def maximin(list):\n",
    "    if len(list) < 2:\n",
    "        print(f'We need at least two values in the list')\n",
    "    else:\n",
    "        min = 0\n",
    "        max = 0\n",
    "        for i in list:\n",
    "            if min == 0 and max == 0:\n",
    "                min = i\n",
    "                max = i\n",
    "            elif i < min:\n",
    "                min = i\n",
    "            elif i > max:\n",
    "                max = i\n",
    "    return print(f'maximum value is {max} and minimum value is {min}')\n",
    "list = [12, 33, 41, 2, 61, 32, 75, 43, 67]\n",
    "maximin(list)\n",
    "                "
   ]
  },
  {
   "cell_type": "code",
   "execution_count": null,
   "metadata": {},
   "outputs": [],
   "source": []
  }
 ],
 "metadata": {
  "kernelspec": {
   "display_name": "Python 3",
   "language": "python",
   "name": "python3"
  },
  "language_info": {
   "codemirror_mode": {
    "name": "ipython",
    "version": 3
   },
   "file_extension": ".py",
   "mimetype": "text/x-python",
   "name": "python",
   "nbconvert_exporter": "python",
   "pygments_lexer": "ipython3",
   "version": "3.7.7"
  }
 },
 "nbformat": 4,
 "nbformat_minor": 4
}
